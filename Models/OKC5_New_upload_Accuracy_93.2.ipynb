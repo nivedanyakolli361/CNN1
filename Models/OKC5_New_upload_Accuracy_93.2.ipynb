{
  "cells": [
    {
      "cell_type": "markdown",
      "metadata": {
        "id": "view-in-github",
        "colab_type": "text"
      },
      "source": [
        "<a href=\"https://colab.research.google.com/github/nivedanyakolli361/CNN1/blob/main/Models/OKC5_New_upload_Accuracy_93.2.ipynb\" target=\"_parent\"><img src=\"https://colab.research.google.com/assets/colab-badge.svg\" alt=\"Open In Colab\"/></a>"
      ]
    },
    {
      "cell_type": "code",
      "execution_count": 1,
      "metadata": {
        "colab": {
          "base_uri": "https://localhost:8080/",
          "height": 35
        },
        "id": "mNVTEvyPWsfA",
        "outputId": "4f883118-35de-4dca-a6dc-aa62da853e67"
      },
      "outputs": [
        {
          "output_type": "execute_result",
          "data": {
            "text/plain": [
              "'/device:GPU:0'"
            ],
            "application/vnd.google.colaboratory.intrinsic+json": {
              "type": "string"
            }
          },
          "metadata": {},
          "execution_count": 1
        }
      ],
      "source": [
        "import tensorflow as tf \n",
        "device__list = tf.test.gpu_device_name()\n",
        "device__list"
      ]
    },
    {
      "cell_type": "code",
      "execution_count": null,
      "metadata": {
        "colab": {
          "base_uri": "https://localhost:8080/"
        },
        "id": "aQMG8BNqoiJy",
        "outputId": "a153225f-8ea0-463f-9e52-64ce34566f98"
      },
      "outputs": [
        {
          "name": "stdout",
          "output_type": "stream",
          "text": [
            "2.8.2\n"
          ]
        }
      ],
      "source": [
        "import tensorflow as tf\n",
        "print(tf.__version__)"
      ]
    },
    {
      "cell_type": "code",
      "execution_count": null,
      "metadata": {
        "colab": {
          "base_uri": "https://localhost:8080/"
        },
        "id": "2lanNhD_uA5c",
        "outputId": "1904ab67-8c3b-4b67-aba1-55bd7d55db0c"
      },
      "outputs": [
        {
          "name": "stdout",
          "output_type": "stream",
          "text": [
            "3.7.13 (default, Apr 24 2022, 01:04:09) \n",
            "[GCC 7.5.0]\n"
          ]
        }
      ],
      "source": [
        "import sys \n",
        "print(sys.version)"
      ]
    },
    {
      "cell_type": "code",
      "execution_count": 2,
      "metadata": {
        "colab": {
          "base_uri": "https://localhost:8080/"
        },
        "id": "87TyYOBDW0G4",
        "outputId": "b6018d14-32c5-4313-d361-083067b40465"
      },
      "outputs": [
        {
          "output_type": "stream",
          "name": "stdout",
          "text": [
            "Mounted at /content/drive\n"
          ]
        }
      ],
      "source": [
        "from google.colab import drive\n",
        "drive.mount('/content/drive')"
      ]
    },
    {
      "cell_type": "code",
      "execution_count": 2,
      "metadata": {
        "id": "VilhQLP6XCx-"
      },
      "outputs": [],
      "source": [
        "# Part 1 - Building the CNN\n",
        "# Multiple Inputs\n",
        "import numpy as np\n",
        "from keras.utils.vis_utils import plot_model\n",
        "from keras.models import Model\n",
        "from keras.layers import Input, BatchNormalization\n",
        "from keras.layers import Dense, Dropout \n",
        "from keras.layers import Flatten\n",
        "from keras.layers.convolutional import Conv2D\n",
        "from keras.layers.pooling import MaxPooling2D\n",
        "from keras.layers.merge import concatenate\n",
        "import glob \n",
        "import cv2\n",
        "from sklearn.model_selection import train_test_split"
      ]
    },
    {
      "cell_type": "code",
      "execution_count": 3,
      "metadata": {
        "id": "YngXQEULMRT1"
      },
      "outputs": [],
      "source": [
        "from tensorflow.keras.preprocessing.image import ImageDataGenerator\n",
        "from tensorflow.keras.preprocessing import image"
      ]
    },
    {
      "cell_type": "code",
      "execution_count": null,
      "metadata": {
        "colab": {
          "base_uri": "https://localhost:8080/"
        },
        "id": "kdKCkuK64sSh",
        "outputId": "c009b79c-b67d-4777-d223-23275ece7f2c"
      },
      "outputs": [
        {
          "data": {
            "text/plain": [
              "['/content/drive/MyDrive/OKC_and_NonOKC_Dataset/Training/Non-OKC/Non-OKC_295.jpg',\n",
              " '/content/drive/MyDrive/OKC_and_NonOKC_Dataset/Training/Non-OKC/Non-OKC_296.jpg',\n",
              " '/content/drive/MyDrive/OKC_and_NonOKC_Dataset/Training/Non-OKC/Non-OKC_297.jpg',\n",
              " '/content/drive/MyDrive/OKC_and_NonOKC_Dataset/Training/Non-OKC/Non-OKC_298.jpg',\n",
              " '/content/drive/MyDrive/OKC_and_NonOKC_Dataset/Training/Non-OKC/Non-OKC_299.jpg']"
            ]
          },
          "execution_count": 14,
          "metadata": {},
          "output_type": "execute_result"
        }
      ],
      "source": [
        "path_NonOKC_1[295:300]"
      ]
    },
    {
      "cell_type": "code",
      "execution_count": null,
      "metadata": {
        "colab": {
          "base_uri": "https://localhost:8080/"
        },
        "id": "_qWUvgS-4v2D",
        "outputId": "4a668501-516c-46c5-ab8f-ab23c3d09f3b"
      },
      "outputs": [
        {
          "data": {
            "text/plain": [
              "['/content/drive/MyDrive/Canny/Training/Non-OKC/Non-OKC_295.jpg',\n",
              " '/content/drive/MyDrive/Canny/Training/Non-OKC/Non-OKC_296.jpg',\n",
              " '/content/drive/MyDrive/Canny/Training/Non-OKC/Non-OKC_297.jpg',\n",
              " '/content/drive/MyDrive/Canny/Training/Non-OKC/Non-OKC_298.jpg',\n",
              " '/content/drive/MyDrive/Canny/Training/Non-OKC/Non-OKC_299.jpg']"
            ]
          },
          "execution_count": 15,
          "metadata": {},
          "output_type": "execute_result"
        }
      ],
      "source": [
        "path_NonOKC_2[295:300]"
      ]
    },
    {
      "cell_type": "code",
      "execution_count": 4,
      "metadata": {
        "colab": {
          "base_uri": "https://localhost:8080/"
        },
        "id": "jqyfl7PPVhVE",
        "outputId": "63014d1d-9998-4e9e-9e71-7894e63f2f02"
      },
      "outputs": [
        {
          "output_type": "stream",
          "name": "stdout",
          "text": [
            "865\n",
            "1138\n",
            "865\n",
            "1138\n"
          ]
        }
      ],
      "source": [
        "path_NonOKC_1 = glob.glob('/content/drive/MyDrive/OKC_and_NonOKC_Dataset/Training/Non-OKC/*')\n",
        "path_NonOKC_2 = glob.glob('/content/drive/MyDrive/Canny/Training/Non-OKC/*')\n",
        "\n",
        "path_OKC_1 = glob.glob('/content/drive/MyDrive/OKC_and_NonOKC_Dataset/Training/OKC/*')\n",
        "path_OKC_2 = glob.glob('/content/drive/MyDrive/Canny/Training/OKC/*')\n",
        "\n",
        "x_data= []\n",
        "y_data = []\n",
        "\n",
        "def loaddate(x_data,y_data,path1, n):\n",
        "  print(len(path1))\n",
        "  for i in path1[:]:\n",
        "    image= cv2.imread(i)\n",
        "    image=cv2.resize(image,(256,256))\n",
        "    x_data.append(image)\n",
        "    y_data.append(n)\n",
        "  return x_data,y_data\n",
        "\n",
        "x_img, y_img  = loaddate([], [], path_NonOKC_1, 0) #\n",
        "x_img, y_img  = loaddate(x_img, y_img, path_OKC_1, 1) \n",
        "\n",
        "x_img = np.array(x_img)\n",
        "y_img = np.array(y_img)\n",
        "\n",
        "\n",
        "x_canny, y_canny  = loaddate([], [], path_NonOKC_2, 0) \n",
        "x_canny, y_canny  = loaddate(x_canny, y_canny, path_OKC_2, 1)\n",
        "\n",
        "x_canny = np.array(x_canny)\n",
        "y_canny = np.array(y_canny)\n",
        "\n",
        "\n",
        "#X_train_img, X_test_img, y_train_img, y_test_img = train_test_split(x_img, y_img, random_state=0, train_size =0.2)\n",
        "\n",
        "#X_train_canny, X_test_canny, y_train_canny, y_test_canny = train_test_split(x_canny, y_canny, random_state=0, train_size =0.2)"
      ]
    },
    {
      "cell_type": "code",
      "execution_count": null,
      "metadata": {
        "colab": {
          "base_uri": "https://localhost:8080/"
        },
        "id": "x6AwXRT8b94K",
        "outputId": "71b6de4b-e412-4b78-b1e1-0d8d7d247567"
      },
      "outputs": [
        {
          "name": "stdout",
          "output_type": "stream",
          "text": [
            "865\n",
            "865\n"
          ]
        }
      ],
      "source": [
        "print(len(path_NonOKC_1))\n",
        "print(len(path_NonOKC_2))"
      ]
    },
    {
      "cell_type": "code",
      "execution_count": null,
      "metadata": {
        "colab": {
          "base_uri": "https://localhost:8080/"
        },
        "id": "9VlM9AHFd0pA",
        "outputId": "0292e1af-d99f-45f3-d248-8a9d35fd1e8c"
      },
      "outputs": [
        {
          "name": "stdout",
          "output_type": "stream",
          "text": [
            "1138\n",
            "1138\n"
          ]
        }
      ],
      "source": [
        "print(len(path_OKC_1))\n",
        "print(len(path_OKC_2))"
      ]
    },
    {
      "cell_type": "code",
      "execution_count": null,
      "metadata": {
        "colab": {
          "base_uri": "https://localhost:8080/"
        },
        "id": "uUCHx0shd1du",
        "outputId": "3a6fd5b4-ce27-4b38-97b1-ce7a0c8f3261"
      },
      "outputs": [
        {
          "name": "stdout",
          "output_type": "stream",
          "text": [
            "2003\n",
            "2003\n"
          ]
        }
      ],
      "source": [
        "print( len(x_img))\n",
        "print( len(y_img))"
      ]
    },
    {
      "cell_type": "code",
      "execution_count": null,
      "metadata": {
        "colab": {
          "base_uri": "https://localhost:8080/"
        },
        "id": "IucgdAHpeLNG",
        "outputId": "e81538c4-d474-4fa1-a80d-666095528bf1"
      },
      "outputs": [
        {
          "name": "stdout",
          "output_type": "stream",
          "text": [
            "2003\n",
            "2003\n"
          ]
        }
      ],
      "source": [
        "print( len(x_canny))\n",
        "print( len(y_canny))"
      ]
    },
    {
      "cell_type": "code",
      "execution_count": 5,
      "metadata": {
        "id": "9D3jK-rObUoQ"
      },
      "outputs": [],
      "source": [
        "X_train_img, X_test_img, y_train_img, y_test_img = train_test_split(x_img, y_img, random_state=0, train_size =0.8)\n",
        "\n",
        "X_train_canny, X_test_canny, y_train_canny, y_test_canny = train_test_split(x_canny, y_canny, random_state=0, train_size =0.8)"
      ]
    },
    {
      "cell_type": "code",
      "execution_count": null,
      "metadata": {
        "colab": {
          "base_uri": "https://localhost:8080/"
        },
        "id": "KBIY5udrp4j4",
        "outputId": "4419f5b9-38d3-4b7a-d13e-793d4e533a75"
      },
      "outputs": [
        {
          "data": {
            "text/plain": [
              "(1602, 256, 256, 3)"
            ]
          },
          "execution_count": 9,
          "metadata": {},
          "output_type": "execute_result"
        }
      ],
      "source": [
        "X_train_img.shape"
      ]
    },
    {
      "cell_type": "code",
      "execution_count": null,
      "metadata": {
        "colab": {
          "base_uri": "https://localhost:8080/"
        },
        "id": "65Wsh6kWeVwP",
        "outputId": "88dcd560-7fac-480e-f9b4-c885cf6576a2"
      },
      "outputs": [
        {
          "data": {
            "text/plain": [
              "(401, 256, 256, 3)"
            ]
          },
          "execution_count": 16,
          "metadata": {},
          "output_type": "execute_result"
        }
      ],
      "source": [
        "X_test_img.shape"
      ]
    },
    {
      "cell_type": "code",
      "execution_count": null,
      "metadata": {
        "colab": {
          "base_uri": "https://localhost:8080/"
        },
        "id": "KxGHhbMneV4R",
        "outputId": "324879ac-1769-4f1f-cadf-03a1f185a7bd"
      },
      "outputs": [
        {
          "data": {
            "text/plain": [
              "(1602,)"
            ]
          },
          "execution_count": 18,
          "metadata": {},
          "output_type": "execute_result"
        }
      ],
      "source": [
        "y_train_img.shape"
      ]
    },
    {
      "cell_type": "code",
      "execution_count": null,
      "metadata": {
        "colab": {
          "base_uri": "https://localhost:8080/"
        },
        "id": "EWCimRKJeV9_",
        "outputId": "0ab20496-ab71-43a8-dfec-f42e0a847c6b"
      },
      "outputs": [
        {
          "data": {
            "text/plain": [
              "(401,)"
            ]
          },
          "execution_count": 19,
          "metadata": {},
          "output_type": "execute_result"
        }
      ],
      "source": [
        "y_test_img.shape"
      ]
    },
    {
      "cell_type": "code",
      "execution_count": null,
      "metadata": {
        "colab": {
          "base_uri": "https://localhost:8080/"
        },
        "id": "0LrXrvQbeWBr",
        "outputId": "c3eecc62-e4b8-4c37-aa7a-db617e322e9e"
      },
      "outputs": [
        {
          "data": {
            "text/plain": [
              "(1602, 256, 256, 3)"
            ]
          },
          "execution_count": 20,
          "metadata": {},
          "output_type": "execute_result"
        }
      ],
      "source": [
        "X_train_canny.shape"
      ]
    },
    {
      "cell_type": "code",
      "execution_count": null,
      "metadata": {
        "colab": {
          "base_uri": "https://localhost:8080/"
        },
        "id": "ixYe6jGyfAYJ",
        "outputId": "639a4c17-42ce-424c-faf3-40750f43ff07"
      },
      "outputs": [
        {
          "data": {
            "text/plain": [
              "(401, 256, 256, 3)"
            ]
          },
          "execution_count": 21,
          "metadata": {},
          "output_type": "execute_result"
        }
      ],
      "source": [
        "X_test_canny.shape"
      ]
    },
    {
      "cell_type": "code",
      "execution_count": null,
      "metadata": {
        "colab": {
          "base_uri": "https://localhost:8080/"
        },
        "id": "t-ait3dsfHvJ",
        "outputId": "104800fc-fe6e-4bd0-84de-38d216ac18ac"
      },
      "outputs": [
        {
          "data": {
            "text/plain": [
              "(1602,)"
            ]
          },
          "execution_count": 22,
          "metadata": {},
          "output_type": "execute_result"
        }
      ],
      "source": [
        "y_train_canny.shape"
      ]
    },
    {
      "cell_type": "code",
      "execution_count": null,
      "metadata": {
        "colab": {
          "base_uri": "https://localhost:8080/"
        },
        "id": "9e5BWMJ5eWFW",
        "outputId": "a82b6036-690c-467d-e564-ab3ee8c124c1"
      },
      "outputs": [
        {
          "data": {
            "text/plain": [
              "(401,)"
            ]
          },
          "execution_count": 23,
          "metadata": {},
          "output_type": "execute_result"
        }
      ],
      "source": [
        "y_test_canny.shape"
      ]
    },
    {
      "cell_type": "code",
      "execution_count": null,
      "metadata": {
        "id": "pNXYNVXQkZqn"
      },
      "outputs": [],
      "source": [
        "# learning rate\n",
        "LEARN_RATE = 1.0e-4"
      ]
    },
    {
      "cell_type": "code",
      "execution_count": 31,
      "metadata": {
        "colab": {
          "base_uri": "https://localhost:8080/"
        },
        "id": "NT57Hq3uN9Vy",
        "outputId": "7f801a57-3247-4f6d-d88e-f93d485c9cb5"
      },
      "outputs": [
        {
          "output_type": "stream",
          "name": "stdout",
          "text": [
            "(None, 256, 256, 3)\n",
            "(None, 254, 254, 64)\n",
            "(None, 84, 84, 64)\n",
            "(None, 82, 82, 32)\n",
            "(None, 27, 27, 32)\n",
            "(None, 25, 25, 16)\n",
            "(None, 8, 8, 16)\n"
          ]
        }
      ],
      "source": [
        "# first input model\n",
        "visible1 = Input(shape=(256,256,3))\n",
        "print(visible1.shape)\n",
        "\n",
        "conv11 = Conv2D(64, kernel_size=3, activation='relu')(visible1)\n",
        "x11     = BatchNormalization(axis=-1, momentum=0.99)(conv11)\n",
        "print(conv11.shape)\n",
        "pool11 = MaxPooling2D(pool_size=(3, 3))(x11)\n",
        "print(pool11.shape)\n",
        "\n",
        "conv12 = Conv2D(32, kernel_size=3, activation='relu')(pool11)\n",
        "x12     = BatchNormalization(axis=-1, momentum=0.99)(conv12)\n",
        "print(conv12.shape)\n",
        "pool12 = MaxPooling2D(pool_size=(3, 3))(x12)\n",
        "print(pool12.shape)\n",
        "\n",
        "conv13 = Conv2D(16, kernel_size=3, activation='relu')(pool12)\n",
        "x13     = BatchNormalization(axis=-1, momentum=0.99)(conv13)\n",
        "print(conv13.shape)\n",
        "pool13 = MaxPooling2D(pool_size=(3, 3))(x13)\n",
        "print(pool13.shape)\n",
        "\n",
        "flat1 = Flatten()(pool13)\n",
        "\n",
        "# second input model\n",
        "visible2 = Input(shape=(256,256,3))\n",
        "\n",
        "conv21 = Conv2D(64, kernel_size=3, activation='relu')(visible2)\n",
        "x21     = BatchNormalization(axis=-1,momentum=0.99)(conv21)\n",
        "pool21 = MaxPooling2D(pool_size=(3, 3))(x21)\n",
        "\n",
        "conv22 = Conv2D(32, kernel_size=3, activation='relu')(pool21)\n",
        "x21     = BatchNormalization(axis=-1,momentum=0.99)(conv22)\n",
        "pool22 = MaxPooling2D(pool_size=(3, 3))(x21)\n",
        "\n",
        "conv23 = Conv2D(16, kernel_size=3, activation='relu')(pool22)\n",
        "x23     = BatchNormalization(axis=-1,momentum=0.99)(conv23)\n",
        "pool23 = MaxPooling2D(pool_size=(3, 3))(x23)\n",
        "\n",
        "flat2 = Flatten()(pool23)\n",
        "\n",
        "# merge input models\n",
        "merge = concatenate([flat1, flat2])\n",
        "\n",
        "\n",
        "# interpretation model\n",
        "\n",
        "hidden1 = Dense(50, activation='relu')(merge)\n",
        "drop1 = Dropout(0.35)(hidden1)\n",
        "\n",
        "hidden2 = Dense(20, activation='relu')(drop1)\n",
        "\n",
        "drop2 = Dropout(0.2)(hidden2)\n",
        "\n",
        "output = Dense(1, activation='sigmoid')(drop2)\n",
        "\n",
        "model = Model(inputs=[visible1, visible2], outputs=output)"
      ]
    },
    {
      "cell_type": "code",
      "execution_count": 61,
      "metadata": {
        "colab": {
          "base_uri": "https://localhost:8080/"
        },
        "id": "wQk3IAzSPU6m",
        "outputId": "d877e400-7157-4baa-daa9-a83562d42a1c"
      },
      "outputs": [
        {
          "output_type": "stream",
          "name": "stdout",
          "text": [
            "Model: \"model_4\"\n",
            "__________________________________________________________________________________________________\n",
            " Layer (type)                   Output Shape         Param #     Connected to                     \n",
            "==================================================================================================\n",
            " input_9 (InputLayer)           [(None, 256, 256, 3  0           []                               \n",
            "                                )]                                                                \n",
            "                                                                                                  \n",
            " input_10 (InputLayer)          [(None, 256, 256, 3  0           []                               \n",
            "                                )]                                                                \n",
            "                                                                                                  \n",
            " conv2d_20 (Conv2D)             (None, 254, 254, 64  1792        ['input_9[0][0]']                \n",
            "                                )                                                                 \n",
            "                                                                                                  \n",
            " conv2d_23 (Conv2D)             (None, 254, 254, 64  1792        ['input_10[0][0]']               \n",
            "                                )                                                                 \n",
            "                                                                                                  \n",
            " batch_normalization_8 (BatchNo  (None, 254, 254, 64  256        ['conv2d_20[0][0]']              \n",
            " rmalization)                   )                                                                 \n",
            "                                                                                                  \n",
            " batch_normalization_11 (BatchN  (None, 254, 254, 64  256        ['conv2d_23[0][0]']              \n",
            " ormalization)                  )                                                                 \n",
            "                                                                                                  \n",
            " max_pooling2d_20 (MaxPooling2D  (None, 84, 84, 64)  0           ['batch_normalization_8[0][0]']  \n",
            " )                                                                                                \n",
            "                                                                                                  \n",
            " max_pooling2d_23 (MaxPooling2D  (None, 84, 84, 64)  0           ['batch_normalization_11[0][0]'] \n",
            " )                                                                                                \n",
            "                                                                                                  \n",
            " conv2d_21 (Conv2D)             (None, 82, 82, 32)   18464       ['max_pooling2d_20[0][0]']       \n",
            "                                                                                                  \n",
            " conv2d_24 (Conv2D)             (None, 82, 82, 32)   18464       ['max_pooling2d_23[0][0]']       \n",
            "                                                                                                  \n",
            " batch_normalization_9 (BatchNo  (None, 82, 82, 32)  128         ['conv2d_21[0][0]']              \n",
            " rmalization)                                                                                     \n",
            "                                                                                                  \n",
            " batch_normalization_12 (BatchN  (None, 82, 82, 32)  128         ['conv2d_24[0][0]']              \n",
            " ormalization)                                                                                    \n",
            "                                                                                                  \n",
            " max_pooling2d_21 (MaxPooling2D  (None, 27, 27, 32)  0           ['batch_normalization_9[0][0]']  \n",
            " )                                                                                                \n",
            "                                                                                                  \n",
            " max_pooling2d_24 (MaxPooling2D  (None, 27, 27, 32)  0           ['batch_normalization_12[0][0]'] \n",
            " )                                                                                                \n",
            "                                                                                                  \n",
            " conv2d_22 (Conv2D)             (None, 25, 25, 16)   4624        ['max_pooling2d_21[0][0]']       \n",
            "                                                                                                  \n",
            " conv2d_25 (Conv2D)             (None, 25, 25, 16)   4624        ['max_pooling2d_24[0][0]']       \n",
            "                                                                                                  \n",
            " batch_normalization_10 (BatchN  (None, 25, 25, 16)  64          ['conv2d_22[0][0]']              \n",
            " ormalization)                                                                                    \n",
            "                                                                                                  \n",
            " batch_normalization_13 (BatchN  (None, 25, 25, 16)  64          ['conv2d_25[0][0]']              \n",
            " ormalization)                                                                                    \n",
            "                                                                                                  \n",
            " max_pooling2d_22 (MaxPooling2D  (None, 8, 8, 16)    0           ['batch_normalization_10[0][0]'] \n",
            " )                                                                                                \n",
            "                                                                                                  \n",
            " max_pooling2d_25 (MaxPooling2D  (None, 8, 8, 16)    0           ['batch_normalization_13[0][0]'] \n",
            " )                                                                                                \n",
            "                                                                                                  \n",
            " flatten_8 (Flatten)            (None, 1024)         0           ['max_pooling2d_22[0][0]']       \n",
            "                                                                                                  \n",
            " flatten_9 (Flatten)            (None, 1024)         0           ['max_pooling2d_25[0][0]']       \n",
            "                                                                                                  \n",
            " concatenate_4 (Concatenate)    (None, 2048)         0           ['flatten_8[0][0]',              \n",
            "                                                                  'flatten_9[0][0]']              \n",
            "                                                                                                  \n",
            " dense_12 (Dense)               (None, 50)           102450      ['concatenate_4[0][0]']          \n",
            "                                                                                                  \n",
            " dropout_6 (Dropout)            (None, 50)           0           ['dense_12[0][0]']               \n",
            "                                                                                                  \n",
            " dense_13 (Dense)               (None, 20)           1020        ['dropout_6[0][0]']              \n",
            "                                                                                                  \n",
            " dropout_7 (Dropout)            (None, 20)           0           ['dense_13[0][0]']               \n",
            "                                                                                                  \n",
            " dense_14 (Dense)               (None, 1)            21          ['dropout_7[0][0]']              \n",
            "                                                                                                  \n",
            "==================================================================================================\n",
            "Total params: 154,147\n",
            "Trainable params: 153,699\n",
            "Non-trainable params: 448\n",
            "__________________________________________________________________________________________________\n",
            "None\n"
          ]
        }
      ],
      "source": [
        "# summarize layers\n",
        "print(model.summary())"
      ]
    },
    {
      "cell_type": "code",
      "execution_count": 62,
      "metadata": {
        "colab": {
          "base_uri": "https://localhost:8080/",
          "height": 1000
        },
        "id": "gOMiOUZPPbws",
        "outputId": "a94ce3d4-0f55-4564-882b-451cb871e8e1"
      },
      "outputs": [
        {
          "output_type": "execute_result",
          "data": {
            "text/plain": [
              "<IPython.core.display.Image object>"
            ],
            "image/png": "[encoded data removed]"
          },
          "metadata": {},
          "execution_count": 62
        }
      ],
      "source": [
        "# plot graph\n",
        "plot_model(model, to_file='/content/drive/MyDrive/Canny/multiple_inputs_Acc_93.2.png')"
      ]
    },
    {
      "cell_type": "code",
      "execution_count": 63,
      "metadata": {
        "colab": {
          "base_uri": "https://localhost:8080/",
          "height": 1000
        },
        "id": "E5kpOWpLjpv3",
        "outputId": "24557add-87e9-4722-ca95-a930f5a8667d"
      },
      "outputs": [
        {
          "output_type": "execute_result",
          "data": {
            "text/plain": [
              "<IPython.core.display.Image object>"
            ],
            "image/png": "[encoded data removed]"
          },
          "metadata": {},
          "execution_count": 63
        }
      ],
      "source": [
        "plot_model(model, to_file='/content/drive/MyDrive/Canny/model_plot_Acc_93.2.png', show_shapes=True, show_layer_names=True)"
      ]
    },
    {
      "cell_type": "code",
      "execution_count": 33,
      "metadata": {
        "id": "AUJcFQ3razg3"
      },
      "outputs": [],
      "source": [
        "from keras.callbacks import ModelCheckpoint\n",
        "\n",
        "checkpoint = ModelCheckpoint('/content/drive/MyDrive/Canny/best_model_improved.h5',  # model filename\n",
        "                             monitor='val_loss',                                     # quantity to monitor\n",
        "                             verbose=0,                                              # verbosity - 0 or 1\n",
        "                             save_best_only= True,                                   # The latest best model will not be overwritten\n",
        "                             mode='auto')                                            # The decision to overwrite model is made \n",
        "                                                                                     # automatically depending on the quantity to monitor "
      ]
    },
    {
      "cell_type": "code",
      "execution_count": 34,
      "metadata": {
        "id": "meuonbOSPh-q"
      },
      "outputs": [],
      "source": [
        "model.compile(optimizer='adam',\n",
        "              loss = 'binary_crossentropy', \n",
        "              metrics=['accuracy'])"
      ]
    },
    {
      "cell_type": "code",
      "execution_count": 39,
      "metadata": {
        "colab": {
          "base_uri": "https://localhost:8080/"
        },
        "id": "nJdSjxZpq16D",
        "outputId": "b5f57d72-23a4-400c-ff69-c02ccbc9cb62"
      },
      "outputs": [
        {
          "output_type": "stream",
          "name": "stdout",
          "text": [
            "Epoch 1/23\n",
            "100/100 [==============================] - 9s 89ms/step - loss: 0.0243 - accuracy: 0.9900 - val_loss: 0.5426 - val_accuracy: 0.8925\n",
            "Epoch 2/23\n",
            "100/100 [==============================] - 9s 87ms/step - loss: 0.0530 - accuracy: 0.9887 - val_loss: 1.5057 - val_accuracy: 0.7775\n",
            "Epoch 3/23\n",
            "100/100 [==============================] - 9s 86ms/step - loss: 0.0185 - accuracy: 0.9943 - val_loss: 0.2310 - val_accuracy: 0.9325\n",
            "Epoch 4/23\n",
            "100/100 [==============================] - 9s 87ms/step - loss: 0.0095 - accuracy: 0.9975 - val_loss: 0.1764 - val_accuracy: 0.9550\n",
            "Epoch 5/23\n",
            "100/100 [==============================] - 9s 87ms/step - loss: 0.0160 - accuracy: 0.9931 - val_loss: 0.9815 - val_accuracy: 0.8575\n",
            "Epoch 6/23\n",
            "100/100 [==============================] - 9s 86ms/step - loss: 0.0182 - accuracy: 0.9918 - val_loss: 0.2353 - val_accuracy: 0.9450\n",
            "Epoch 7/23\n",
            "100/100 [==============================] - 9s 87ms/step - loss: 0.0126 - accuracy: 0.9924 - val_loss: 0.6785 - val_accuracy: 0.8725\n",
            "Epoch 8/23\n",
            "100/100 [==============================] - 9s 87ms/step - loss: 0.0105 - accuracy: 0.9962 - val_loss: 0.1946 - val_accuracy: 0.9575\n",
            "Epoch 9/23\n",
            "100/100 [==============================] - 9s 86ms/step - loss: 0.0086 - accuracy: 0.9968 - val_loss: 0.3228 - val_accuracy: 0.9350\n",
            "Epoch 10/23\n",
            "100/100 [==============================] - 9s 86ms/step - loss: 0.0243 - accuracy: 0.9924 - val_loss: 0.2113 - val_accuracy: 0.9550\n",
            "Epoch 11/23\n",
            "100/100 [==============================] - 9s 86ms/step - loss: 0.0096 - accuracy: 0.9968 - val_loss: 1.3745 - val_accuracy: 0.7950\n",
            "Epoch 12/23\n",
            "100/100 [==============================] - 9s 86ms/step - loss: 0.0107 - accuracy: 0.9956 - val_loss: 1.6741 - val_accuracy: 0.8050\n",
            "Epoch 13/23\n",
            "100/100 [==============================] - 9s 86ms/step - loss: 0.0159 - accuracy: 0.9943 - val_loss: 0.2211 - val_accuracy: 0.9575\n",
            "Epoch 14/23\n",
            "100/100 [==============================] - 9s 86ms/step - loss: 0.0077 - accuracy: 0.9968 - val_loss: 0.1594 - val_accuracy: 0.9750\n",
            "Epoch 15/23\n",
            "100/100 [==============================] - 9s 86ms/step - loss: 0.0070 - accuracy: 0.9981 - val_loss: 1.1327 - val_accuracy: 0.8825\n",
            "Epoch 16/23\n",
            "100/100 [==============================] - 9s 86ms/step - loss: 0.0466 - accuracy: 0.9868 - val_loss: 36.1934 - val_accuracy: 0.4600\n",
            "Epoch 17/23\n",
            "100/100 [==============================] - 9s 87ms/step - loss: 0.0192 - accuracy: 0.9931 - val_loss: 0.2231 - val_accuracy: 0.9500\n",
            "Epoch 18/23\n",
            "100/100 [==============================] - 9s 86ms/step - loss: 0.0811 - accuracy: 0.9773 - val_loss: 0.7252 - val_accuracy: 0.8200\n",
            "Epoch 19/23\n",
            "100/100 [==============================] - 9s 86ms/step - loss: 0.0201 - accuracy: 0.9950 - val_loss: 0.1345 - val_accuracy: 0.9575\n",
            "Epoch 20/23\n",
            "100/100 [==============================] - 9s 86ms/step - loss: 0.0154 - accuracy: 0.9962 - val_loss: 0.1222 - val_accuracy: 0.9625\n",
            "Epoch 21/23\n",
            "100/100 [==============================] - 9s 86ms/step - loss: 0.0113 - accuracy: 0.9987 - val_loss: 0.3026 - val_accuracy: 0.9350\n",
            "Epoch 22/23\n",
            "100/100 [==============================] - 9s 85ms/step - loss: 0.0100 - accuracy: 0.9968 - val_loss: 0.1414 - val_accuracy: 0.9675\n",
            "Epoch 23/23\n",
            "100/100 [==============================] - 9s 86ms/step - loss: 0.0126 - accuracy: 0.9956 - val_loss: 0.3153 - val_accuracy: 0.9325\n"
          ]
        }
      ],
      "source": [
        "history=model.fit([X_train_img, X_train_canny],y_train_img, \n",
        "                  validation_data =([X_test_img,X_test_canny],y_test_img), \n",
        "                  epochs = 23, \n",
        "                  batch_size=16,\n",
        "                  steps_per_epoch=len(X_train_img)//16,\n",
        "                  validation_steps=len(X_test_img)//16,\n",
        "                  callbacks=[checkpoint],\n",
        "                  verbose=1\n",
        "                  )"
      ]
    },
    {
      "cell_type": "code",
      "execution_count": null,
      "metadata": {
        "colab": {
          "base_uri": "https://localhost:8080/"
        },
        "id": "QDlKCRNjt3_7",
        "outputId": "c4fb1788-dff6-4354-986c-b29da239e9df"
      },
      "outputs": [
        {
          "data": {
            "text/plain": [
              "(5, 512, 512, 3)"
            ]
          },
          "execution_count": 36,
          "metadata": {},
          "output_type": "execute_result"
        }
      ],
      "source": [
        "X_train_canny[5:10].shape"
      ]
    },
    {
      "cell_type": "code",
      "execution_count": null,
      "metadata": {
        "colab": {
          "base_uri": "https://localhost:8080/"
        },
        "id": "n1F39DNLu927",
        "outputId": "c8297f47-2de9-425c-8be2-842a50a2399f"
      },
      "outputs": [
        {
          "data": {
            "text/plain": [
              "array([1, 0, 1, 1, 1])"
            ]
          },
          "execution_count": 39,
          "metadata": {},
          "output_type": "execute_result"
        }
      ],
      "source": [
        "y_train_img[5:10]"
      ]
    },
    {
      "cell_type": "code",
      "execution_count": null,
      "metadata": {
        "id": "h7GFJpjpuagq"
      },
      "outputs": [],
      "source": [
        "predictions = model.predict([X_train_img,X_train_canny])"
      ]
    },
    {
      "cell_type": "code",
      "execution_count": null,
      "metadata": {
        "colab": {
          "base_uri": "https://localhost:8080/"
        },
        "id": "GrR5cYfuuNAr",
        "outputId": "16f8ff2c-180f-4edf-8e4b-1646c385e5a8"
      },
      "outputs": [
        {
          "data": {
            "text/plain": [
              "1602"
            ]
          },
          "execution_count": 20,
          "metadata": {},
          "output_type": "execute_result"
        }
      ],
      "source": [
        "len(predictions)"
      ]
    },
    {
      "cell_type": "code",
      "execution_count": null,
      "metadata": {
        "colab": {
          "base_uri": "https://localhost:8080/"
        },
        "id": "AXDrhgOBho-U",
        "outputId": "da8a6ae7-0e96-41cb-a276-70f9efcf7f01"
      },
      "outputs": [
        {
          "data": {
            "text/plain": [
              "1602"
            ]
          },
          "execution_count": 24,
          "metadata": {},
          "output_type": "execute_result"
        }
      ],
      "source": [
        "len(X_train_img)"
      ]
    },
    {
      "cell_type": "code",
      "execution_count": 40,
      "metadata": {
        "colab": {
          "base_uri": "https://localhost:8080/"
        },
        "id": "8kId4FBZvjRe",
        "outputId": "b78906f3-7b3c-4f7d-80cf-e782ab8bb63e"
      },
      "outputs": [
        {
          "output_type": "stream",
          "name": "stdout",
          "text": [
            "13/13 [==============================] - 1s 37ms/step - loss: 0.3145 - accuracy: 0.9327\n",
            "[0.3144765794277191, 0.9326683282852173]\n"
          ]
        }
      ],
      "source": [
        "# Evaluate the best model with testing data.\n",
        "print(model.evaluate(x=[X_test_img,X_test_canny],y= y_test_img))"
      ]
    },
    {
      "cell_type": "code",
      "execution_count": 41,
      "metadata": {
        "id": "NAjJAXbuwYIm"
      },
      "outputs": [],
      "source": [
        "from sklearn.metrics import confusion_matrix\n",
        "from sklearn.metrics import classification_report\n",
        "#cm = confusion_matrix(y_true = y_train_img[5:10], y_pred = np.argmax(predictions, axis=-1))"
      ]
    },
    {
      "cell_type": "code",
      "execution_count": null,
      "metadata": {
        "id": "-_kiFfhk6RCg"
      },
      "outputs": [],
      "source": [
        ""
      ]
    },
    {
      "cell_type": "code",
      "execution_count": 42,
      "metadata": {
        "colab": {
          "base_uri": "https://localhost:8080/",
          "height": 295
        },
        "id": "ZL6eDLrQZOyK",
        "outputId": "9c58d977-3630-4cae-ae52-f3a16cec8ff5"
      },
      "outputs": [
        {
          "output_type": "display_data",
          "data": {
            "text/plain": [
              "<Figure size 432x288 with 1 Axes>"
            ],
            "image/png": "[encoded data removed]"
          },
          "metadata": {
            "needs_background": "light"
          }
        }
      ],
      "source": [
        "# plot the loss\n",
        "\n",
        "import matplotlib.pyplot as plt\n",
        "\n",
        "plt.plot(history.history['loss'], label='train loss')\n",
        "plt.plot(history.history['val_loss'], label='val loss')\n",
        "plt.title('Model Loss')\n",
        "plt.legend(['Training Loss', 'Test Loss'], loc = 'upper left')\n",
        "\n",
        "plt.xlabel('Epoch')\n",
        "plt.ylabel('Loss')\n",
        "\n",
        "plt.show()"
      ]
    },
    {
      "cell_type": "code",
      "execution_count": 43,
      "metadata": {
        "colab": {
          "base_uri": "https://localhost:8080/",
          "height": 295
        },
        "id": "UhVpTZR4Z78W",
        "outputId": "958402a7-266e-4334-809c-88d9820b5cd6"
      },
      "outputs": [
        {
          "output_type": "display_data",
          "data": {
            "text/plain": [
              "<Figure size 432x288 with 1 Axes>"
            ],
            "image/png": "[encoded data removed]"
          },
          "metadata": {
            "needs_background": "light"
          }
        }
      ],
      "source": [
        "# plot the accuracy\n",
        "\n",
        "plt.plot(history.history['accuracy'], label='train acc')\n",
        "plt.plot(history.history['val_accuracy'], label='val acc')\n",
        "plt.legend(['Training Accuracy', 'Test Accuracy'], loc = 'upper left')\n",
        "plt.title('Model Aucuracy')\n",
        "\n",
        "plt.xlabel('Epoch')\n",
        "plt.ylabel('Accuracy')\n",
        "plt.show()"
      ]
    },
    {
      "cell_type": "code",
      "execution_count": 44,
      "metadata": {
        "colab": {
          "base_uri": "https://localhost:8080/"
        },
        "id": "uY0WY9zaeQ8K",
        "outputId": "a9d3f17c-4363-48cc-dfa4-4d406ec04801"
      },
      "outputs": [
        {
          "output_type": "execute_result",
          "data": {
            "text/plain": [
              "array([[9.76851881e-01],\n",
              "       [5.17653416e-06],\n",
              "       [1.34921752e-14],\n",
              "       [1.01233041e-18],\n",
              "       [3.12764314e-07],\n",
              "       [1.23472512e-01],\n",
              "       [1.00000000e+00],\n",
              "       [4.09570537e-11],\n",
              "       [6.43706768e-13],\n",
              "       [4.62819144e-10],\n",
              "       [9.48306024e-01],\n",
              "       [5.97719861e-07],\n",
              "       [6.28126800e-01],\n",
              "       [5.60996138e-09],\n",
              "       [5.43538392e-01],\n",
              "       [3.75918776e-01],\n",
              "       [7.38157660e-11],\n",
              "       [9.99995351e-01],\n",
              "       [8.70890702e-08],\n",
              "       [2.18655005e-09],\n",
              "       [1.00000000e+00],\n",
              "       [6.35783999e-06],\n",
              "       [9.99996305e-01],\n",
              "       [9.08945008e-09],\n",
              "       [1.91967260e-08],\n",
              "       [3.37315896e-07],\n",
              "       [3.90748415e-12],\n",
              "       [2.97959796e-05],\n",
              "       [1.00000000e+00],\n",
              "       [2.33583037e-08],\n",
              "       [2.45755127e-09],\n",
              "       [7.40619659e-01],\n",
              "       [4.40609604e-10],\n",
              "       [3.68580805e-10],\n",
              "       [1.46027613e-12],\n",
              "       [1.44665053e-12],\n",
              "       [9.76907611e-01],\n",
              "       [9.99937057e-01],\n",
              "       [5.24865811e-11],\n",
              "       [9.99890089e-01],\n",
              "       [1.00000000e+00],\n",
              "       [9.99996305e-01],\n",
              "       [1.51348914e-14],\n",
              "       [9.63400424e-01],\n",
              "       [1.19329931e-03],\n",
              "       [9.50562239e-01],\n",
              "       [3.18779581e-09],\n",
              "       [9.99992847e-01],\n",
              "       [1.09240487e-02],\n",
              "       [5.84567674e-02],\n",
              "       [9.99857426e-01],\n",
              "       [9.99955535e-01],\n",
              "       [6.57254517e-01],\n",
              "       [1.64422349e-12],\n",
              "       [9.99949694e-01],\n",
              "       [1.16609167e-08],\n",
              "       [2.06943178e-11],\n",
              "       [3.17533221e-03],\n",
              "       [9.99997258e-01],\n",
              "       [9.39750935e-14],\n",
              "       [5.88727772e-01],\n",
              "       [9.92186546e-01],\n",
              "       [4.34630886e-02],\n",
              "       [1.13455904e-14],\n",
              "       [1.00000000e+00],\n",
              "       [1.00000000e+00],\n",
              "       [9.99980211e-01],\n",
              "       [6.04424495e-05],\n",
              "       [5.71358250e-03],\n",
              "       [5.80373838e-09],\n",
              "       [9.87141132e-01],\n",
              "       [1.00000000e+00],\n",
              "       [9.90694284e-01],\n",
              "       [9.99571621e-01],\n",
              "       [9.99543488e-01],\n",
              "       [1.00000000e+00],\n",
              "       [1.43900079e-05],\n",
              "       [9.99941468e-01],\n",
              "       [1.00000000e+00],\n",
              "       [6.10759912e-07],\n",
              "       [9.99999881e-01],\n",
              "       [9.99988675e-01],\n",
              "       [9.99976516e-01],\n",
              "       [9.99999881e-01],\n",
              "       [3.28739916e-05],\n",
              "       [1.00000000e+00],\n",
              "       [2.46598721e-01],\n",
              "       [1.90000441e-13],\n",
              "       [1.00000000e+00],\n",
              "       [9.99389052e-01],\n",
              "       [1.00000000e+00],\n",
              "       [1.16270942e-15],\n",
              "       [5.50865412e-01],\n",
              "       [9.47294593e-01],\n",
              "       [5.69381518e-05],\n",
              "       [2.16678164e-15],\n",
              "       [9.98440325e-01],\n",
              "       [9.16102640e-15],\n",
              "       [1.06220148e-17],\n",
              "       [1.00000000e+00],\n",
              "       [9.07870770e-01],\n",
              "       [1.00450343e-04],\n",
              "       [3.81534845e-02],\n",
              "       [9.99999285e-01],\n",
              "       [1.00000000e+00],\n",
              "       [1.00000000e+00],\n",
              "       [1.00000000e+00],\n",
              "       [2.34759341e-07],\n",
              "       [3.84857049e-06],\n",
              "       [2.63007411e-12],\n",
              "       [2.14219699e-03],\n",
              "       [2.12524547e-11],\n",
              "       [2.32761209e-07],\n",
              "       [9.99989867e-01],\n",
              "       [9.36288238e-01],\n",
              "       [4.46382549e-11],\n",
              "       [1.00000000e+00],\n",
              "       [1.00000000e+00],\n",
              "       [2.69000745e-15],\n",
              "       [1.29121981e-05],\n",
              "       [2.27386556e-12],\n",
              "       [3.61515582e-08],\n",
              "       [1.45447018e-04],\n",
              "       [3.41343598e-13],\n",
              "       [1.25535820e-07],\n",
              "       [9.74352803e-12],\n",
              "       [1.80449803e-07],\n",
              "       [9.99981403e-01],\n",
              "       [1.17063208e-03],\n",
              "       [3.75947407e-09],\n",
              "       [3.17528502e-05],\n",
              "       [9.99990106e-01],\n",
              "       [7.21523821e-01],\n",
              "       [9.99999523e-01],\n",
              "       [9.53082123e-13],\n",
              "       [1.00000000e+00],\n",
              "       [1.00000000e+00],\n",
              "       [8.79231989e-01],\n",
              "       [2.40299199e-02],\n",
              "       [1.20661149e-04],\n",
              "       [7.61525750e-01],\n",
              "       [9.98600900e-01],\n",
              "       [3.14761301e-08],\n",
              "       [9.99997377e-01],\n",
              "       [7.34145045e-18],\n",
              "       [5.63772336e-12],\n",
              "       [3.18992335e-07],\n",
              "       [9.52769976e-16],\n",
              "       [1.00000000e+00],\n",
              "       [8.55152734e-07],\n",
              "       [1.00000000e+00],\n",
              "       [7.28899956e-01],\n",
              "       [8.15097018e-11],\n",
              "       [9.99999762e-01],\n",
              "       [1.00000000e+00],\n",
              "       [1.30880586e-08],\n",
              "       [2.89295032e-03],\n",
              "       [1.04484303e-12],\n",
              "       [3.04241160e-10],\n",
              "       [2.37795785e-01],\n",
              "       [9.59418761e-16],\n",
              "       [9.99989867e-01],\n",
              "       [5.00826445e-07],\n",
              "       [8.45438056e-03],\n",
              "       [1.50197628e-12],\n",
              "       [8.99207122e-21],\n",
              "       [1.11468755e-01],\n",
              "       [8.33398700e-02],\n",
              "       [2.67930108e-18],\n",
              "       [2.35226497e-01],\n",
              "       [9.99999523e-01],\n",
              "       [2.41266181e-13],\n",
              "       [1.00000000e+00],\n",
              "       [9.99999046e-01],\n",
              "       [7.09445613e-09],\n",
              "       [9.99996543e-01],\n",
              "       [1.24857444e-18],\n",
              "       [5.37451790e-08],\n",
              "       [1.01535758e-09],\n",
              "       [3.30304707e-11],\n",
              "       [1.00000000e+00],\n",
              "       [1.00000000e+00],\n",
              "       [4.16012824e-09],\n",
              "       [1.00000000e+00],\n",
              "       [9.15424109e-01],\n",
              "       [9.99999285e-01],\n",
              "       [1.00000000e+00],\n",
              "       [9.84554350e-01],\n",
              "       [1.00000000e+00],\n",
              "       [5.70151738e-11],\n",
              "       [9.97709155e-01],\n",
              "       [8.59336317e-01],\n",
              "       [1.88779222e-12],\n",
              "       [7.12639630e-01],\n",
              "       [5.27653449e-14],\n",
              "       [5.71490675e-02],\n",
              "       [1.00000000e+00],\n",
              "       [9.99998689e-01],\n",
              "       [9.42338824e-01],\n",
              "       [5.26068032e-01],\n",
              "       [8.10542166e-01],\n",
              "       [1.00000000e+00],\n",
              "       [9.91382420e-01],\n",
              "       [8.98086071e-01],\n",
              "       [1.00000000e+00],\n",
              "       [9.92135167e-01],\n",
              "       [1.21255495e-08],\n",
              "       [8.77506008e-14],\n",
              "       [3.43530246e-07],\n",
              "       [3.95319063e-07],\n",
              "       [1.74158368e-10],\n",
              "       [9.99924064e-01],\n",
              "       [5.53704912e-12],\n",
              "       [9.99995112e-01],\n",
              "       [9.38971519e-01],\n",
              "       [4.25119680e-07],\n",
              "       [1.00000000e+00],\n",
              "       [9.99984384e-01],\n",
              "       [5.41319096e-08],\n",
              "       [8.32288116e-02],\n",
              "       [9.99997377e-01],\n",
              "       [3.40595166e-03],\n",
              "       [1.00000000e+00],\n",
              "       [1.00000000e+00],\n",
              "       [9.98540878e-01],\n",
              "       [9.56683874e-01],\n",
              "       [9.94333029e-01],\n",
              "       [9.79202092e-01],\n",
              "       [7.17826858e-02],\n",
              "       [9.99984980e-01],\n",
              "       [1.00000000e+00],\n",
              "       [1.00000000e+00],\n",
              "       [1.00000000e+00],\n",
              "       [3.37595396e-09],\n",
              "       [6.38261484e-03],\n",
              "       [1.00000000e+00],\n",
              "       [2.34356980e-06],\n",
              "       [9.05389275e-09],\n",
              "       [9.99929070e-01],\n",
              "       [9.99877214e-01],\n",
              "       [9.99998093e-01],\n",
              "       [3.33940595e-01],\n",
              "       [9.99999523e-01],\n",
              "       [1.00000000e+00],\n",
              "       [1.47551034e-11],\n",
              "       [9.99997973e-01],\n",
              "       [9.99999642e-01],\n",
              "       [9.88949299e-01],\n",
              "       [8.00479114e-01],\n",
              "       [9.84470010e-01],\n",
              "       [9.99999642e-01],\n",
              "       [1.00000000e+00],\n",
              "       [6.02677641e-09],\n",
              "       [9.04991329e-01],\n",
              "       [5.34668565e-03],\n",
              "       [8.05712640e-01],\n",
              "       [9.99998808e-01],\n",
              "       [9.99999285e-01],\n",
              "       [1.49253443e-01],\n",
              "       [3.69546562e-02],\n",
              "       [9.99874353e-01],\n",
              "       [3.62028539e-01],\n",
              "       [7.80789461e-03],\n",
              "       [3.21463797e-12],\n",
              "       [1.55378532e-09],\n",
              "       [2.27652912e-04],\n",
              "       [3.99510720e-12],\n",
              "       [3.09680354e-16],\n",
              "       [9.99587119e-01],\n",
              "       [3.63873869e-01],\n",
              "       [1.00000000e+00],\n",
              "       [6.98053270e-07],\n",
              "       [6.90170865e-10],\n",
              "       [9.99961019e-01],\n",
              "       [8.83859038e-01],\n",
              "       [9.97923315e-01],\n",
              "       [1.39575134e-08],\n",
              "       [7.84244299e-01],\n",
              "       [8.10995400e-02],\n",
              "       [4.76594001e-01],\n",
              "       [6.61853611e-01],\n",
              "       [5.31629124e-12],\n",
              "       [9.99981880e-01],\n",
              "       [2.91590189e-11],\n",
              "       [9.70759094e-01],\n",
              "       [2.33078246e-09],\n",
              "       [9.99999881e-01],\n",
              "       [1.23482318e-08],\n",
              "       [2.20756695e-01],\n",
              "       [7.31103480e-01],\n",
              "       [9.99904513e-01],\n",
              "       [9.99999642e-01],\n",
              "       [5.38285361e-10],\n",
              "       [1.12578811e-04],\n",
              "       [1.53579294e-05],\n",
              "       [9.10885334e-01],\n",
              "       [8.05168629e-01],\n",
              "       [1.85888312e-05],\n",
              "       [1.00000000e+00],\n",
              "       [5.73441522e-13],\n",
              "       [2.03762329e-06],\n",
              "       [1.00000000e+00],\n",
              "       [9.99933720e-01],\n",
              "       [3.71120498e-02],\n",
              "       [9.97586846e-01],\n",
              "       [3.26663721e-03],\n",
              "       [1.00000000e+00],\n",
              "       [9.73742306e-01],\n",
              "       [2.28802742e-15],\n",
              "       [1.29020592e-07],\n",
              "       [3.67722059e-05],\n",
              "       [1.55251495e-12],\n",
              "       [5.46045626e-08],\n",
              "       [1.00000000e+00],\n",
              "       [6.07765079e-01],\n",
              "       [1.00000000e+00],\n",
              "       [8.47548662e-08],\n",
              "       [9.99976635e-01],\n",
              "       [3.55592569e-08],\n",
              "       [1.00000000e+00],\n",
              "       [3.91301512e-07],\n",
              "       [9.99999762e-01],\n",
              "       [9.99999166e-01],\n",
              "       [9.99992490e-01],\n",
              "       [9.91859853e-01],\n",
              "       [9.99991775e-01],\n",
              "       [4.54322108e-05],\n",
              "       [6.02373984e-10],\n",
              "       [4.90982614e-14],\n",
              "       [9.97504294e-01],\n",
              "       [1.00000000e+00],\n",
              "       [4.21249169e-09],\n",
              "       [9.99910474e-01],\n",
              "       [5.82970461e-05],\n",
              "       [1.00000000e+00],\n",
              "       [1.04933883e-06],\n",
              "       [1.00000000e+00],\n",
              "       [9.99915600e-01],\n",
              "       [9.99991298e-01],\n",
              "       [3.81589472e-01],\n",
              "       [9.92784381e-01],\n",
              "       [6.32157253e-07],\n",
              "       [3.46607612e-06],\n",
              "       [9.34544744e-07],\n",
              "       [5.04739035e-07],\n",
              "       [5.11264861e-01],\n",
              "       [7.68893999e-16],\n",
              "       [9.99999762e-01],\n",
              "       [6.77899648e-09],\n",
              "       [9.99579132e-01],\n",
              "       [9.99999046e-01],\n",
              "       [3.81702084e-05],\n",
              "       [8.37975919e-01],\n",
              "       [3.56531189e-07],\n",
              "       [9.98720637e-13],\n",
              "       [6.16959870e-01],\n",
              "       [9.99912024e-01],\n",
              "       [6.00069683e-08],\n",
              "       [4.65454534e-02],\n",
              "       [9.99999762e-01],\n",
              "       [1.00000000e+00],\n",
              "       [4.01290634e-07],\n",
              "       [1.11105525e-08],\n",
              "       [8.72594479e-04],\n",
              "       [5.23699418e-06],\n",
              "       [1.54533774e-01],\n",
              "       [1.00000000e+00],\n",
              "       [9.99998569e-01],\n",
              "       [2.48295274e-02],\n",
              "       [1.81613968e-09],\n",
              "       [2.50931137e-10],\n",
              "       [1.00000000e+00],\n",
              "       [9.75719988e-01],\n",
              "       [1.00000000e+00],\n",
              "       [7.02012282e-10],\n",
              "       [2.40346178e-17],\n",
              "       [3.02889571e-03],\n",
              "       [1.32623580e-04],\n",
              "       [9.99981284e-01],\n",
              "       [1.00000000e+00],\n",
              "       [8.50806231e-11],\n",
              "       [9.99999762e-01],\n",
              "       [2.86834031e-01],\n",
              "       [4.91025895e-01],\n",
              "       [8.98530941e-15],\n",
              "       [2.63057200e-06],\n",
              "       [3.99219949e-04],\n",
              "       [1.00000000e+00],\n",
              "       [4.13321504e-12],\n",
              "       [8.09448540e-01],\n",
              "       [9.99932170e-01],\n",
              "       [9.93684828e-01],\n",
              "       [8.65551550e-03],\n",
              "       [1.00000000e+00],\n",
              "       [9.07548203e-10],\n",
              "       [2.31280264e-05],\n",
              "       [2.58681397e-17],\n",
              "       [9.99606311e-01],\n",
              "       [6.53428614e-01],\n",
              "       [7.85973195e-22],\n",
              "       [1.10469269e-08]], dtype=float32)"
            ]
          },
          "metadata": {},
          "execution_count": 44
        }
      ],
      "source": [
        "y_pred = model.predict([X_test_img, X_test_canny])\n",
        "y_pred"
      ]
    },
    {
      "cell_type": "code",
      "execution_count": 45,
      "metadata": {
        "id": "lmnsA7MWtzvU"
      },
      "outputs": [],
      "source": [
        "pred = []\n",
        "for i in y_pred:\n",
        "  if i[0] < 0.5:\n",
        "    pred.append(0)\n",
        "\n",
        "  else:\n",
        "    pred.append(1)"
      ]
    },
    {
      "cell_type": "code",
      "execution_count": 46,
      "metadata": {
        "colab": {
          "base_uri": "https://localhost:8080/"
        },
        "id": "hqkK8sBrt1X7",
        "outputId": "bdebc3a6-a5e1-4314-8fe6-65b0c5e96842"
      },
      "outputs": [
        {
          "output_type": "execute_result",
          "data": {
            "text/plain": [
              "[1,\n",
              " 0,\n",
              " 0,\n",
              " 0,\n",
              " 0,\n",
              " 0,\n",
              " 1,\n",
              " 0,\n",
              " 0,\n",
              " 0,\n",
              " 1,\n",
              " 0,\n",
              " 1,\n",
              " 0,\n",
              " 1,\n",
              " 0,\n",
              " 0,\n",
              " 1,\n",
              " 0,\n",
              " 0,\n",
              " 1,\n",
              " 0,\n",
              " 1,\n",
              " 0,\n",
              " 0,\n",
              " 0,\n",
              " 0,\n",
              " 0,\n",
              " 1,\n",
              " 0,\n",
              " 0,\n",
              " 1,\n",
              " 0,\n",
              " 0,\n",
              " 0,\n",
              " 0,\n",
              " 1,\n",
              " 1,\n",
              " 0,\n",
              " 1,\n",
              " 1,\n",
              " 1,\n",
              " 0,\n",
              " 1,\n",
              " 0,\n",
              " 1,\n",
              " 0,\n",
              " 1,\n",
              " 0,\n",
              " 0,\n",
              " 1,\n",
              " 1,\n",
              " 1,\n",
              " 0,\n",
              " 1,\n",
              " 0,\n",
              " 0,\n",
              " 0,\n",
              " 1,\n",
              " 0,\n",
              " 1,\n",
              " 1,\n",
              " 0,\n",
              " 0,\n",
              " 1,\n",
              " 1,\n",
              " 1,\n",
              " 0,\n",
              " 0,\n",
              " 0,\n",
              " 1,\n",
              " 1,\n",
              " 1,\n",
              " 1,\n",
              " 1,\n",
              " 1,\n",
              " 0,\n",
              " 1,\n",
              " 1,\n",
              " 0,\n",
              " 1,\n",
              " 1,\n",
              " 1,\n",
              " 1,\n",
              " 0,\n",
              " 1,\n",
              " 0,\n",
              " 0,\n",
              " 1,\n",
              " 1,\n",
              " 1,\n",
              " 0,\n",
              " 1,\n",
              " 1,\n",
              " 0,\n",
              " 0,\n",
              " 1,\n",
              " 0,\n",
              " 0,\n",
              " 1,\n",
              " 1,\n",
              " 0,\n",
              " 0,\n",
              " 1,\n",
              " 1,\n",
              " 1,\n",
              " 1,\n",
              " 0,\n",
              " 0,\n",
              " 0,\n",
              " 0,\n",
              " 0,\n",
              " 0,\n",
              " 1,\n",
              " 1,\n",
              " 0,\n",
              " 1,\n",
              " 1,\n",
              " 0,\n",
              " 0,\n",
              " 0,\n",
              " 0,\n",
              " 0,\n",
              " 0,\n",
              " 0,\n",
              " 0,\n",
              " 0,\n",
              " 1,\n",
              " 0,\n",
              " 0,\n",
              " 0,\n",
              " 1,\n",
              " 1,\n",
              " 1,\n",
              " 0,\n",
              " 1,\n",
              " 1,\n",
              " 1,\n",
              " 0,\n",
              " 0,\n",
              " 1,\n",
              " 1,\n",
              " 0,\n",
              " 1,\n",
              " 0,\n",
              " 0,\n",
              " 0,\n",
              " 0,\n",
              " 1,\n",
              " 0,\n",
              " 1,\n",
              " 1,\n",
              " 0,\n",
              " 1,\n",
              " 1,\n",
              " 0,\n",
              " 0,\n",
              " 0,\n",
              " 0,\n",
              " 0,\n",
              " 0,\n",
              " 1,\n",
              " 0,\n",
              " 0,\n",
              " 0,\n",
              " 0,\n",
              " 0,\n",
              " 0,\n",
              " 0,\n",
              " 0,\n",
              " 1,\n",
              " 0,\n",
              " 1,\n",
              " 1,\n",
              " 0,\n",
              " 1,\n",
              " 0,\n",
              " 0,\n",
              " 0,\n",
              " 0,\n",
              " 1,\n",
              " 1,\n",
              " 0,\n",
              " 1,\n",
              " 1,\n",
              " 1,\n",
              " 1,\n",
              " 1,\n",
              " 1,\n",
              " 0,\n",
              " 1,\n",
              " 1,\n",
              " 0,\n",
              " 1,\n",
              " 0,\n",
              " 0,\n",
              " 1,\n",
              " 1,\n",
              " 1,\n",
              " 1,\n",
              " 1,\n",
              " 1,\n",
              " 1,\n",
              " 1,\n",
              " 1,\n",
              " 1,\n",
              " 0,\n",
              " 0,\n",
              " 0,\n",
              " 0,\n",
              " 0,\n",
              " 1,\n",
              " 0,\n",
              " 1,\n",
              " 1,\n",
              " 0,\n",
              " 1,\n",
              " 1,\n",
              " 0,\n",
              " 0,\n",
              " 1,\n",
              " 0,\n",
              " 1,\n",
              " 1,\n",
              " 1,\n",
              " 1,\n",
              " 1,\n",
              " 1,\n",
              " 0,\n",
              " 1,\n",
              " 1,\n",
              " 1,\n",
              " 1,\n",
              " 0,\n",
              " 0,\n",
              " 1,\n",
              " 0,\n",
              " 0,\n",
              " 1,\n",
              " 1,\n",
              " 1,\n",
              " 0,\n",
              " 1,\n",
              " 1,\n",
              " 0,\n",
              " 1,\n",
              " 1,\n",
              " 1,\n",
              " 1,\n",
              " 1,\n",
              " 1,\n",
              " 1,\n",
              " 0,\n",
              " 1,\n",
              " 0,\n",
              " 1,\n",
              " 1,\n",
              " 1,\n",
              " 0,\n",
              " 0,\n",
              " 1,\n",
              " 0,\n",
              " 0,\n",
              " 0,\n",
              " 0,\n",
              " 0,\n",
              " 0,\n",
              " 0,\n",
              " 1,\n",
              " 0,\n",
              " 1,\n",
              " 0,\n",
              " 0,\n",
              " 1,\n",
              " 1,\n",
              " 1,\n",
              " 0,\n",
              " 1,\n",
              " 0,\n",
              " 0,\n",
              " 1,\n",
              " 0,\n",
              " 1,\n",
              " 0,\n",
              " 1,\n",
              " 0,\n",
              " 1,\n",
              " 0,\n",
              " 0,\n",
              " 1,\n",
              " 1,\n",
              " 1,\n",
              " 0,\n",
              " 0,\n",
              " 0,\n",
              " 1,\n",
              " 1,\n",
              " 0,\n",
              " 1,\n",
              " 0,\n",
              " 0,\n",
              " 1,\n",
              " 1,\n",
              " 0,\n",
              " 1,\n",
              " 0,\n",
              " 1,\n",
              " 1,\n",
              " 0,\n",
              " 0,\n",
              " 0,\n",
              " 0,\n",
              " 0,\n",
              " 1,\n",
              " 1,\n",
              " 1,\n",
              " 0,\n",
              " 1,\n",
              " 0,\n",
              " 1,\n",
              " 0,\n",
              " 1,\n",
              " 1,\n",
              " 1,\n",
              " 1,\n",
              " 1,\n",
              " 0,\n",
              " 0,\n",
              " 0,\n",
              " 1,\n",
              " 1,\n",
              " 0,\n",
              " 1,\n",
              " 0,\n",
              " 1,\n",
              " 0,\n",
              " 1,\n",
              " 1,\n",
              " 1,\n",
              " 0,\n",
              " 1,\n",
              " 0,\n",
              " 0,\n",
              " 0,\n",
              " 0,\n",
              " 1,\n",
              " 0,\n",
              " 1,\n",
              " 0,\n",
              " 1,\n",
              " 1,\n",
              " 0,\n",
              " 1,\n",
              " 0,\n",
              " 0,\n",
              " 1,\n",
              " 1,\n",
              " 0,\n",
              " 0,\n",
              " 1,\n",
              " 1,\n",
              " 0,\n",
              " 0,\n",
              " 0,\n",
              " 0,\n",
              " 0,\n",
              " 1,\n",
              " 1,\n",
              " 0,\n",
              " 0,\n",
              " 0,\n",
              " 1,\n",
              " 1,\n",
              " 1,\n",
              " 0,\n",
              " 0,\n",
              " 0,\n",
              " 0,\n",
              " 1,\n",
              " 1,\n",
              " 0,\n",
              " 1,\n",
              " 0,\n",
              " 0,\n",
              " 0,\n",
              " 0,\n",
              " 0,\n",
              " 1,\n",
              " 0,\n",
              " 1,\n",
              " 1,\n",
              " 1,\n",
              " 0,\n",
              " 1,\n",
              " 0,\n",
              " 0,\n",
              " 0,\n",
              " 1,\n",
              " 1,\n",
              " 0,\n",
              " 0]"
            ]
          },
          "metadata": {},
          "execution_count": 46
        }
      ],
      "source": [
        "pred"
      ]
    },
    {
      "cell_type": "code",
      "execution_count": null,
      "metadata": {
        "id": "fsBl2FaovZBl"
      },
      "outputs": [],
      "source": [
        "# y_true1 = ([X_test_img, X_test_canny]).classes\n"
      ]
    },
    {
      "cell_type": "code",
      "execution_count": 47,
      "metadata": {
        "colab": {
          "base_uri": "https://localhost:8080/"
        },
        "id": "CNjrePOnt8Zb",
        "outputId": "d403391f-447b-4f0c-893a-8a775311a11b"
      },
      "outputs": [
        {
          "output_type": "execute_result",
          "data": {
            "text/plain": [
              "401"
            ]
          },
          "metadata": {},
          "execution_count": 47
        }
      ],
      "source": [
        "len(pred)"
      ]
    },
    {
      "cell_type": "code",
      "execution_count": 49,
      "metadata": {
        "id": "cw9edJ3_vqLt"
      },
      "outputs": [],
      "source": [
        "#len(y_true1)"
      ]
    },
    {
      "cell_type": "code",
      "execution_count": 50,
      "metadata": {
        "id": "kj8O15SQvwLQ"
      },
      "outputs": [],
      "source": [
        "from sklearn.metrics import confusion_matrix\n",
        "from sklearn.metrics import classification_report"
      ]
    },
    {
      "cell_type": "code",
      "execution_count": 51,
      "metadata": {
        "colab": {
          "base_uri": "https://localhost:8080/"
        },
        "id": "3019hbVevzps",
        "outputId": "d95be14d-f329-4b2c-c668-ba6e672bf5b9"
      },
      "outputs": [
        {
          "output_type": "execute_result",
          "data": {
            "text/plain": [
              "array([[180,   1],\n",
              "       [ 26, 194]])"
            ]
          },
          "metadata": {},
          "execution_count": 51
        }
      ],
      "source": [
        "cm = confusion_matrix(y_test_img,pred)\n",
        "cm"
      ]
    },
    {
      "cell_type": "code",
      "execution_count": 52,
      "metadata": {
        "colab": {
          "base_uri": "https://localhost:8080/",
          "height": 501
        },
        "id": "ug89EiFBvzs2",
        "outputId": "ec03c881-421a-4c9a-cb8d-69758427fe33"
      },
      "outputs": [
        {
          "output_type": "display_data",
          "data": {
            "text/plain": [
              "<Figure size 540x540 with 1 Axes>"
            ],
            "image/png": "[encoded data removed]"
          },
          "metadata": {
            "needs_background": "light"
          }
        }
      ],
      "source": [
        "import matplotlib.pyplot as plt\n",
        "fig, ax = plt.subplots(figsize=(7.5, 7.5))\n",
        "ax.matshow(cm, cmap=plt.cm.Blues, alpha=0.3)\n",
        "for i in range(cm.shape[0]):\n",
        "    for j in range(cm.shape[1]):\n",
        "        ax.text(x=j, y=i,s=cm[i, j], va='center', ha='center', size='xx-large')\n",
        " \n",
        "plt.xlabel('Predictions', fontsize=18)\n",
        "plt.ylabel('Actuals', fontsize=18)\n",
        "plt.title('Confusion Matrix', fontsize=18)\n",
        "plt.show()"
      ]
    },
    {
      "cell_type": "code",
      "execution_count": 53,
      "metadata": {
        "colab": {
          "base_uri": "https://localhost:8080/",
          "height": 337
        },
        "id": "RDBgGKPSvzwN",
        "outputId": "fde18486-a018-4d4e-8ab5-81ec96edf060"
      },
      "outputs": [
        {
          "output_type": "display_data",
          "data": {
            "text/plain": [
              "<Figure size 432x288 with 2 Axes>"
            ],
            "image/png": "[encoded data removed]"
          },
          "metadata": {
            "needs_background": "light"
          }
        }
      ],
      "source": [
        "import seaborn as sns\n",
        "\n",
        "group_counts = [\"{0:0.0f}\".format(value) for value in\n",
        "                cm.flatten()]\n",
        "\n",
        "group_percentages = [\"{0:.2%}\".format(value) for value in\n",
        "                     cm.flatten()/np.sum(cm)]\n",
        "\n",
        "labels = [f\"{v1}\\n{v2}\" for v1, v2 in\n",
        "          zip(group_counts,group_percentages)]\n",
        "\n",
        "labels = np.asarray(labels).reshape(2,2)\n",
        "\n",
        "ax = sns.heatmap(cm, annot=labels, fmt='', cmap='Blues')\n",
        "\n",
        "ax.set_title('Confusion Matrix\\n\\n');\n",
        "ax.set_xlabel('\\nPredicted Values')\n",
        "ax.set_ylabel('Actual Values ');\n",
        "\n",
        "## Ticket labels - List must be in alphabetical order\n",
        "ax.xaxis.set_ticklabels(['True','False'])\n",
        "ax.yaxis.set_ticklabels(['True','False'])\n",
        "\n",
        "## Display the visualization of the Confusion Matrix.\n",
        "plt.show()"
      ]
    },
    {
      "cell_type": "code",
      "execution_count": 54,
      "metadata": {
        "colab": {
          "base_uri": "https://localhost:8080/"
        },
        "id": "gh52ele3iORK",
        "outputId": "8d329b77-33c9-4d28-e4e1-b9a4bdc033ed"
      },
      "outputs": [
        {
          "output_type": "stream",
          "name": "stdout",
          "text": [
            "Precision: 0.995\n",
            "Recall: 0.882\n",
            "Accuracy: 0.933\n",
            "F1 Score: 0.935\n"
          ]
        }
      ],
      "source": [
        "from sklearn.metrics import classification_report\n",
        "\n",
        "from sklearn.metrics import precision_score, recall_score, f1_score, accuracy_score\n",
        "\n",
        "print('Precision: %.3f' % precision_score(y_test_img,pred))\n",
        "\n",
        "print('Recall: %.3f' % recall_score(y_test_img,pred))\n",
        "\n",
        "print('Accuracy: %.3f' % accuracy_score(y_test_img,pred))\n",
        "\n",
        "print('F1 Score: %.3f' % f1_score(y_test_img,pred))"
      ]
    },
    {
      "cell_type": "code",
      "execution_count": 55,
      "metadata": {
        "colab": {
          "base_uri": "https://localhost:8080/"
        },
        "id": "Hn2u9WcujGDj",
        "outputId": "868b0fc7-935c-4e71-8ed4-b9b2e322b648"
      },
      "outputs": [
        {
          "output_type": "stream",
          "name": "stdout",
          "text": [
            "              precision    recall  f1-score   support\n",
            "\n",
            "         OKC       0.87      0.99      0.93       181\n",
            "     Non-OKC       0.99      0.88      0.93       220\n",
            "\n",
            "    accuracy                           0.93       401\n",
            "   macro avg       0.93      0.94      0.93       401\n",
            "weighted avg       0.94      0.93      0.93       401\n",
            "\n"
          ]
        }
      ],
      "source": [
        "target_names = ['OKC', 'Non-OKC']\n",
        "print(classification_report(y_test_img,pred, target_names=target_names))"
      ]
    },
    {
      "cell_type": "code",
      "execution_count": 56,
      "metadata": {
        "id": "dLhq9kkHiE8E"
      },
      "outputs": [],
      "source": [
        "import pandas as pd\n",
        "import numpy as np\n",
        "from sklearn.model_selection import train_test_split\n",
        "from sklearn.linear_model import LogisticRegression\n",
        "from sklearn import metrics\n",
        "import matplotlib.pyplot as plt"
      ]
    },
    {
      "cell_type": "code",
      "execution_count": 57,
      "metadata": {
        "id": "XVYm2WWOiFs5"
      },
      "outputs": [],
      "source": [
        "from sklearn.metrics import roc_curve, roc_auc_score\n",
        "false_positive_rate1, true_positive_rate1, threshold1 = roc_curve(y_test_img, pred)"
      ]
    },
    {
      "cell_type": "code",
      "execution_count": 58,
      "metadata": {
        "colab": {
          "base_uri": "https://localhost:8080/"
        },
        "id": "x4rxWxhSjeEg",
        "outputId": "3754a92f-ed5b-409d-d06f-d2982c36fb95"
      },
      "outputs": [
        {
          "output_type": "stream",
          "name": "stdout",
          "text": [
            "roc_auc_score : 0.9381466599698645\n"
          ]
        }
      ],
      "source": [
        "print('roc_auc_score :', roc_auc_score(y_test_img, pred))"
      ]
    },
    {
      "cell_type": "code",
      "execution_count": 59,
      "metadata": {
        "colab": {
          "base_uri": "https://localhost:8080/",
          "height": 367
        },
        "id": "NCaVwyRWwgb_",
        "outputId": "f68abe17-5dee-47c7-fc91-99c7003256cb"
      },
      "outputs": [
        {
          "output_type": "display_data",
          "data": {
            "text/plain": [
              "<Figure size 360x360 with 1 Axes>"
            ],
            "image/png": "[encoded data removed]"
          },
          "metadata": {
            "needs_background": "light"
          }
        },
        {
          "output_type": "stream",
          "name": "stdout",
          "text": [
            "roc_auc_score : 0.9381466599698645\n"
          ]
        }
      ],
      "source": [
        "plt.subplots(1, figsize=(5,5))\n",
        "plt.title('Receiver Operating Characteristic')\n",
        "plt.plot(false_positive_rate1, true_positive_rate1)\n",
        "plt.plot([0, 1], ls=\"--\")\n",
        "plt.ylabel('True Positive Rate')\n",
        "plt.xlabel('False Positive Rate')\n",
        "plt.show()\n",
        "print('roc_auc_score :', roc_auc_score(y_test_img, pred))"
      ]
    },
    {
      "cell_type": "code",
      "execution_count": 60,
      "metadata": {
        "id": "nR9Ls-WByRXM"
      },
      "outputs": [],
      "source": [
        "model.save('/content/drive/MyDrive/Canny/Nivedan_Functional_3_Accuracy_93.2.h5')"
      ]
    },
    {
      "cell_type": "code",
      "execution_count": null,
      "metadata": {
        "id": "0BQQCc_XrOCW"
      },
      "outputs": [],
      "source": [
        ""
      ]
    }
  ],
  "metadata": {
    "accelerator": "GPU",
    "colab": {
      "collapsed_sections": [],
      "name": "OKC5_New_upload_2.ipynb",
      "provenance": [],
      "include_colab_link": true
    },
    "gpuClass": "standard",
    "kernelspec": {
      "display_name": "Python 3",
      "name": "python3"
    },
    "language_info": {
      "name": "python"
    }
  },
  "nbformat": 4,
  "nbformat_minor": 0
}