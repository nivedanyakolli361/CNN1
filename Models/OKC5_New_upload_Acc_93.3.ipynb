{
  "cells": [
    {
      "cell_type": "markdown",
      "metadata": {
        "id": "view-in-github",
        "colab_type": "text"
      },
      "source": [
        "<a href=\"https://colab.research.google.com/github/nivedanyakolli361/CNN1/blob/main/Models/OKC5_New_upload_Acc_93.3.ipynb\" target=\"_parent\"><img src=\"https://colab.research.google.com/assets/colab-badge.svg\" alt=\"Open In Colab\"/></a>"
      ]
    },
    {
      "cell_type": "code",
      "execution_count": 1,
      "metadata": {
        "colab": {
          "base_uri": "https://localhost:8080/",
          "height": 35
        },
        "id": "mNVTEvyPWsfA",
        "outputId": "4f883118-35de-4dca-a6dc-aa62da853e67"
      },
      "outputs": [
        {
          "output_type": "execute_result",
          "data": {
            "text/plain": [
              "'/device:GPU:0'"
            ],
            "application/vnd.google.colaboratory.intrinsic+json": {
              "type": "string"
            }
          },
          "metadata": {},
          "execution_count": 1
        }
      ],
      "source": [
        "import tensorflow as tf \n",
        "device__list = tf.test.gpu_device_name()\n",
        "device__list"
      ]
    },
    {
      "cell_type": "code",
      "execution_count": null,
      "metadata": {
        "colab": {
          "base_uri": "https://localhost:8080/"
        },
        "id": "aQMG8BNqoiJy",
        "outputId": "a153225f-8ea0-463f-9e52-64ce34566f98"
      },
      "outputs": [
        {
          "name": "stdout",
          "output_type": "stream",
          "text": [
            "2.8.2\n"
          ]
        }
      ],
      "source": [
        "import tensorflow as tf\n",
        "print(tf.__version__)"
      ]
    },
    {
      "cell_type": "code",
      "execution_count": null,
      "metadata": {
        "colab": {
          "base_uri": "https://localhost:8080/"
        },
        "id": "2lanNhD_uA5c",
        "outputId": "1904ab67-8c3b-4b67-aba1-55bd7d55db0c"
      },
      "outputs": [
        {
          "name": "stdout",
          "output_type": "stream",
          "text": [
            "3.7.13 (default, Apr 24 2022, 01:04:09) \n",
            "[GCC 7.5.0]\n"
          ]
        }
      ],
      "source": [
        "import sys \n",
        "print(sys.version)"
      ]
    },
    {
      "cell_type": "code",
      "execution_count": 2,
      "metadata": {
        "colab": {
          "base_uri": "https://localhost:8080/"
        },
        "id": "87TyYOBDW0G4",
        "outputId": "b6018d14-32c5-4313-d361-083067b40465"
      },
      "outputs": [
        {
          "output_type": "stream",
          "name": "stdout",
          "text": [
            "Mounted at /content/drive\n"
          ]
        }
      ],
      "source": [
        "from google.colab import drive\n",
        "drive.mount('/content/drive')"
      ]
    },
    {
      "cell_type": "code",
      "execution_count": 2,
      "metadata": {
        "id": "VilhQLP6XCx-"
      },
      "outputs": [],
      "source": [
        "# Part 1 - Building the CNN\n",
        "# Multiple Inputs\n",
        "import numpy as np\n",
        "from keras.utils.vis_utils import plot_model\n",
        "from keras.models import Model\n",
        "from keras.layers import Input, BatchNormalization\n",
        "from keras.layers import Dense, Dropout \n",
        "from keras.layers import Flatten\n",
        "from keras.layers.convolutional import Conv2D\n",
        "from keras.layers.pooling import MaxPooling2D\n",
        "from keras.layers.merge import concatenate\n",
        "import glob \n",
        "import cv2\n",
        "from sklearn.model_selection import train_test_split"
      ]
    },
    {
      "cell_type": "code",
      "execution_count": 3,
      "metadata": {
        "id": "YngXQEULMRT1"
      },
      "outputs": [],
      "source": [
        "from tensorflow.keras.preprocessing.image import ImageDataGenerator\n",
        "from tensorflow.keras.preprocessing import image"
      ]
    },
    {
      "cell_type": "code",
      "execution_count": null,
      "metadata": {
        "colab": {
          "base_uri": "https://localhost:8080/"
        },
        "id": "kdKCkuK64sSh",
        "outputId": "c009b79c-b67d-4777-d223-23275ece7f2c"
      },
      "outputs": [
        {
          "data": {
            "text/plain": [
              "['/content/drive/MyDrive/OKC_and_NonOKC_Dataset/Training/Non-OKC/Non-OKC_295.jpg',\n",
              " '/content/drive/MyDrive/OKC_and_NonOKC_Dataset/Training/Non-OKC/Non-OKC_296.jpg',\n",
              " '/content/drive/MyDrive/OKC_and_NonOKC_Dataset/Training/Non-OKC/Non-OKC_297.jpg',\n",
              " '/content/drive/MyDrive/OKC_and_NonOKC_Dataset/Training/Non-OKC/Non-OKC_298.jpg',\n",
              " '/content/drive/MyDrive/OKC_and_NonOKC_Dataset/Training/Non-OKC/Non-OKC_299.jpg']"
            ]
          },
          "execution_count": 14,
          "metadata": {},
          "output_type": "execute_result"
        }
      ],
      "source": [
        "path_NonOKC_1[295:300]"
      ]
    },
    {
      "cell_type": "code",
      "execution_count": null,
      "metadata": {
        "colab": {
          "base_uri": "https://localhost:8080/"
        },
        "id": "_qWUvgS-4v2D",
        "outputId": "4a668501-516c-46c5-ab8f-ab23c3d09f3b"
      },
      "outputs": [
        {
          "data": {
            "text/plain": [
              "['/content/drive/MyDrive/Canny/Training/Non-OKC/Non-OKC_295.jpg',\n",
              " '/content/drive/MyDrive/Canny/Training/Non-OKC/Non-OKC_296.jpg',\n",
              " '/content/drive/MyDrive/Canny/Training/Non-OKC/Non-OKC_297.jpg',\n",
              " '/content/drive/MyDrive/Canny/Training/Non-OKC/Non-OKC_298.jpg',\n",
              " '/content/drive/MyDrive/Canny/Training/Non-OKC/Non-OKC_299.jpg']"
            ]
          },
          "execution_count": 15,
          "metadata": {},
          "output_type": "execute_result"
        }
      ],
      "source": [
        "path_NonOKC_2[295:300]"
      ]
    },
    {
      "cell_type": "code",
      "execution_count": 4,
      "metadata": {
        "colab": {
          "base_uri": "https://localhost:8080/"
        },
        "id": "jqyfl7PPVhVE",
        "outputId": "63014d1d-9998-4e9e-9e71-7894e63f2f02"
      },
      "outputs": [
        {
          "output_type": "stream",
          "name": "stdout",
          "text": [
            "865\n",
            "1138\n",
            "865\n",
            "1138\n"
          ]
        }
      ],
      "source": [
        "path_NonOKC_1 = glob.glob('/content/drive/MyDrive/OKC_and_NonOKC_Dataset/Training/Non-OKC/*')\n",
        "path_NonOKC_2 = glob.glob('/content/drive/MyDrive/Canny/Training/Non-OKC/*')\n",
        "\n",
        "path_OKC_1 = glob.glob('/content/drive/MyDrive/OKC_and_NonOKC_Dataset/Training/OKC/*')\n",
        "path_OKC_2 = glob.glob('/content/drive/MyDrive/Canny/Training/OKC/*')\n",
        "\n",
        "x_data= []\n",
        "y_data = []\n",
        "\n",
        "def loaddate(x_data,y_data,path1, n):\n",
        "  print(len(path1))\n",
        "  for i in path1[:]:\n",
        "    image= cv2.imread(i)\n",
        "    image=cv2.resize(image,(256,256))\n",
        "    x_data.append(image)\n",
        "    y_data.append(n)\n",
        "  return x_data,y_data\n",
        "\n",
        "x_img, y_img  = loaddate([], [], path_NonOKC_1, 0) #\n",
        "x_img, y_img  = loaddate(x_img, y_img, path_OKC_1, 1) \n",
        "\n",
        "x_img = np.array(x_img)\n",
        "y_img = np.array(y_img)\n",
        "\n",
        "\n",
        "x_canny, y_canny  = loaddate([], [], path_NonOKC_2, 0) \n",
        "x_canny, y_canny  = loaddate(x_canny, y_canny, path_OKC_2, 1)\n",
        "\n",
        "x_canny = np.array(x_canny)\n",
        "y_canny = np.array(y_canny)\n",
        "\n",
        "\n",
        "#X_train_img, X_test_img, y_train_img, y_test_img = train_test_split(x_img, y_img, random_state=0, train_size =0.2)\n",
        "\n",
        "#X_train_canny, X_test_canny, y_train_canny, y_test_canny = train_test_split(x_canny, y_canny, random_state=0, train_size =0.2)"
      ]
    },
    {
      "cell_type": "code",
      "execution_count": null,
      "metadata": {
        "colab": {
          "base_uri": "https://localhost:8080/"
        },
        "id": "x6AwXRT8b94K",
        "outputId": "71b6de4b-e412-4b78-b1e1-0d8d7d247567"
      },
      "outputs": [
        {
          "name": "stdout",
          "output_type": "stream",
          "text": [
            "865\n",
            "865\n"
          ]
        }
      ],
      "source": [
        "print(len(path_NonOKC_1))\n",
        "print(len(path_NonOKC_2))"
      ]
    },
    {
      "cell_type": "code",
      "execution_count": null,
      "metadata": {
        "colab": {
          "base_uri": "https://localhost:8080/"
        },
        "id": "9VlM9AHFd0pA",
        "outputId": "0292e1af-d99f-45f3-d248-8a9d35fd1e8c"
      },
      "outputs": [
        {
          "name": "stdout",
          "output_type": "stream",
          "text": [
            "1138\n",
            "1138\n"
          ]
        }
      ],
      "source": [
        "print(len(path_OKC_1))\n",
        "print(len(path_OKC_2))"
      ]
    },
    {
      "cell_type": "code",
      "execution_count": null,
      "metadata": {
        "colab": {
          "base_uri": "https://localhost:8080/"
        },
        "id": "uUCHx0shd1du",
        "outputId": "3a6fd5b4-ce27-4b38-97b1-ce7a0c8f3261"
      },
      "outputs": [
        {
          "name": "stdout",
          "output_type": "stream",
          "text": [
            "2003\n",
            "2003\n"
          ]
        }
      ],
      "source": [
        "print( len(x_img))\n",
        "print( len(y_img))"
      ]
    },
    {
      "cell_type": "code",
      "execution_count": null,
      "metadata": {
        "colab": {
          "base_uri": "https://localhost:8080/"
        },
        "id": "IucgdAHpeLNG",
        "outputId": "e81538c4-d474-4fa1-a80d-666095528bf1"
      },
      "outputs": [
        {
          "name": "stdout",
          "output_type": "stream",
          "text": [
            "2003\n",
            "2003\n"
          ]
        }
      ],
      "source": [
        "print( len(x_canny))\n",
        "print( len(y_canny))"
      ]
    },
    {
      "cell_type": "code",
      "execution_count": 5,
      "metadata": {
        "id": "9D3jK-rObUoQ"
      },
      "outputs": [],
      "source": [
        "X_train_img, X_test_img, y_train_img, y_test_img = train_test_split(x_img, y_img, random_state=0, train_size =0.8)\n",
        "\n",
        "X_train_canny, X_test_canny, y_train_canny, y_test_canny = train_test_split(x_canny, y_canny, random_state=0, train_size =0.8)"
      ]
    },
    {
      "cell_type": "code",
      "execution_count": null,
      "metadata": {
        "colab": {
          "base_uri": "https://localhost:8080/"
        },
        "id": "KBIY5udrp4j4",
        "outputId": "4419f5b9-38d3-4b7a-d13e-793d4e533a75"
      },
      "outputs": [
        {
          "data": {
            "text/plain": [
              "(1602, 256, 256, 3)"
            ]
          },
          "execution_count": 9,
          "metadata": {},
          "output_type": "execute_result"
        }
      ],
      "source": [
        "X_train_img.shape"
      ]
    },
    {
      "cell_type": "code",
      "execution_count": null,
      "metadata": {
        "colab": {
          "base_uri": "https://localhost:8080/"
        },
        "id": "65Wsh6kWeVwP",
        "outputId": "88dcd560-7fac-480e-f9b4-c885cf6576a2"
      },
      "outputs": [
        {
          "data": {
            "text/plain": [
              "(401, 256, 256, 3)"
            ]
          },
          "execution_count": 16,
          "metadata": {},
          "output_type": "execute_result"
        }
      ],
      "source": [
        "X_test_img.shape"
      ]
    },
    {
      "cell_type": "code",
      "execution_count": null,
      "metadata": {
        "colab": {
          "base_uri": "https://localhost:8080/"
        },
        "id": "KxGHhbMneV4R",
        "outputId": "324879ac-1769-4f1f-cadf-03a1f185a7bd"
      },
      "outputs": [
        {
          "data": {
            "text/plain": [
              "(1602,)"
            ]
          },
          "execution_count": 18,
          "metadata": {},
          "output_type": "execute_result"
        }
      ],
      "source": [
        "y_train_img.shape"
      ]
    },
    {
      "cell_type": "code",
      "execution_count": null,
      "metadata": {
        "colab": {
          "base_uri": "https://localhost:8080/"
        },
        "id": "EWCimRKJeV9_",
        "outputId": "0ab20496-ab71-43a8-dfec-f42e0a847c6b"
      },
      "outputs": [
        {
          "data": {
            "text/plain": [
              "(401,)"
            ]
          },
          "execution_count": 19,
          "metadata": {},
          "output_type": "execute_result"
        }
      ],
      "source": [
        "y_test_img.shape"
      ]
    },
    {
      "cell_type": "code",
      "execution_count": null,
      "metadata": {
        "colab": {
          "base_uri": "https://localhost:8080/"
        },
        "id": "0LrXrvQbeWBr",
        "outputId": "c3eecc62-e4b8-4c37-aa7a-db617e322e9e"
      },
      "outputs": [
        {
          "data": {
            "text/plain": [
              "(1602, 256, 256, 3)"
            ]
          },
          "execution_count": 20,
          "metadata": {},
          "output_type": "execute_result"
        }
      ],
      "source": [
        "X_train_canny.shape"
      ]
    },
    {
      "cell_type": "code",
      "execution_count": null,
      "metadata": {
        "colab": {
          "base_uri": "https://localhost:8080/"
        },
        "id": "ixYe6jGyfAYJ",
        "outputId": "639a4c17-42ce-424c-faf3-40750f43ff07"
      },
      "outputs": [
        {
          "data": {
            "text/plain": [
              "(401, 256, 256, 3)"
            ]
          },
          "execution_count": 21,
          "metadata": {},
          "output_type": "execute_result"
        }
      ],
      "source": [
        "X_test_canny.shape"
      ]
    },
    {
      "cell_type": "code",
      "execution_count": null,
      "metadata": {
        "colab": {
          "base_uri": "https://localhost:8080/"
        },
        "id": "t-ait3dsfHvJ",
        "outputId": "104800fc-fe6e-4bd0-84de-38d216ac18ac"
      },
      "outputs": [
        {
          "data": {
            "text/plain": [
              "(1602,)"
            ]
          },
          "execution_count": 22,
          "metadata": {},
          "output_type": "execute_result"
        }
      ],
      "source": [
        "y_train_canny.shape"
      ]
    },
    {
      "cell_type": "code",
      "execution_count": null,
      "metadata": {
        "colab": {
          "base_uri": "https://localhost:8080/"
        },
        "id": "9e5BWMJ5eWFW",
        "outputId": "a82b6036-690c-467d-e564-ab3ee8c124c1"
      },
      "outputs": [
        {
          "data": {
            "text/plain": [
              "(401,)"
            ]
          },
          "execution_count": 23,
          "metadata": {},
          "output_type": "execute_result"
        }
      ],
      "source": [
        "y_test_canny.shape"
      ]
    },
    {
      "cell_type": "code",
      "execution_count": null,
      "metadata": {
        "id": "pNXYNVXQkZqn"
      },
      "outputs": [],
      "source": [
        "# learning rate\n",
        "LEARN_RATE = 1.0e-4"
      ]
    },
    {
      "cell_type": "code",
      "execution_count": 103,
      "metadata": {
        "colab": {
          "base_uri": "https://localhost:8080/"
        },
        "id": "NT57Hq3uN9Vy",
        "outputId": "07ddc8cf-2747-4f35-f83a-c2dda9aa6917"
      },
      "outputs": [
        {
          "output_type": "stream",
          "name": "stdout",
          "text": [
            "(None, 256, 256, 3)\n",
            "(None, 254, 254, 64)\n",
            "(None, 84, 84, 64)\n",
            "(None, 82, 82, 32)\n",
            "(None, 27, 27, 32)\n",
            "(None, 25, 25, 16)\n",
            "(None, 8, 8, 16)\n"
          ]
        }
      ],
      "source": [
        "# first input model\n",
        "visible1 = Input(shape=(256,256,3))\n",
        "print(visible1.shape)\n",
        "\n",
        "conv11 = Conv2D(64, kernel_size=3, activation='relu')(visible1)\n",
        "x11     = BatchNormalization(axis=-1, momentum=0.99)(conv11)\n",
        "print(conv11.shape)\n",
        "pool11 = MaxPooling2D(pool_size=(3, 3))(x11)\n",
        "print(pool11.shape)\n",
        "\n",
        "conv12 = Conv2D(32, kernel_size=3, activation='relu')(pool11)\n",
        "x12     = BatchNormalization(axis=-1, momentum=0.99)(conv12)\n",
        "print(conv12.shape)\n",
        "pool12 = MaxPooling2D(pool_size=(3, 3))(x12)\n",
        "print(pool12.shape)\n",
        "\n",
        "conv13 = Conv2D(16, kernel_size=3, activation='relu')(pool12)\n",
        "x13     = BatchNormalization(axis=-1, momentum=0.99)(conv13)\n",
        "print(conv13.shape)\n",
        "pool13 = MaxPooling2D(pool_size=(3, 3))(x13)\n",
        "print(pool13.shape)\n",
        "\n",
        "flat1 = Flatten()(pool13)\n",
        "\n",
        "# second input model\n",
        "visible2 = Input(shape=(256,256,3))\n",
        "\n",
        "conv21 = Conv2D(64, kernel_size=3, activation='relu')(visible2)\n",
        "x21     = BatchNormalization(axis=-1,momentum=0.99)(conv21)\n",
        "pool21 = MaxPooling2D(pool_size=(3, 3))(x21)\n",
        "\n",
        "conv22 = Conv2D(32, kernel_size=3, activation='relu')(pool21)\n",
        "x21     = BatchNormalization(axis=-1,momentum=0.99)(conv22)\n",
        "pool22 = MaxPooling2D(pool_size=(3, 3))(x21)\n",
        "\n",
        "conv23 = Conv2D(16, kernel_size=3, activation='relu')(pool22)\n",
        "x23     = BatchNormalization(axis=-1,momentum=0.99)(conv23)\n",
        "pool23 = MaxPooling2D(pool_size=(3, 3))(x23)\n",
        "\n",
        "flat2 = Flatten()(pool23)\n",
        "\n",
        "# merge input models\n",
        "merge = concatenate([flat1, flat2])\n",
        "\n",
        "# interpretation model\n",
        "hidden1 = Dense(50, activation='relu')(merge)\n",
        "drop1 = Dropout(0.40)(hidden1)\n",
        "\n",
        "hidden2 = Dense(20, activation='relu')(drop1)\n",
        "drop2 = Dropout(0.40)(hidden2)\n",
        "\n",
        "output = Dense(1, activation='sigmoid')(drop2)\n",
        "\n",
        "model = Model(inputs=[visible1, visible2], outputs=output)"
      ]
    },
    {
      "cell_type": "code",
      "execution_count": 110,
      "metadata": {
        "colab": {
          "base_uri": "https://localhost:8080/"
        },
        "id": "wQk3IAzSPU6m",
        "outputId": "3641e0e9-c3c5-4aba-f276-27af0c814af1"
      },
      "outputs": [
        {
          "output_type": "stream",
          "name": "stdout",
          "text": [
            "Model: \"model_8\"\n",
            "__________________________________________________________________________________________________\n",
            " Layer (type)                   Output Shape         Param #     Connected to                     \n",
            "==================================================================================================\n",
            " input_17 (InputLayer)          [(None, 256, 256, 3  0           []                               \n",
            "                                )]                                                                \n",
            "                                                                                                  \n",
            " input_18 (InputLayer)          [(None, 256, 256, 3  0           []                               \n",
            "                                )]                                                                \n",
            "                                                                                                  \n",
            " conv2d_44 (Conv2D)             (None, 254, 254, 64  1792        ['input_17[0][0]']               \n",
            "                                )                                                                 \n",
            "                                                                                                  \n",
            " conv2d_47 (Conv2D)             (None, 254, 254, 64  1792        ['input_18[0][0]']               \n",
            "                                )                                                                 \n",
            "                                                                                                  \n",
            " batch_normalization_32 (BatchN  (None, 254, 254, 64  256        ['conv2d_44[0][0]']              \n",
            " ormalization)                  )                                                                 \n",
            "                                                                                                  \n",
            " batch_normalization_35 (BatchN  (None, 254, 254, 64  256        ['conv2d_47[0][0]']              \n",
            " ormalization)                  )                                                                 \n",
            "                                                                                                  \n",
            " max_pooling2d_44 (MaxPooling2D  (None, 84, 84, 64)  0           ['batch_normalization_32[0][0]'] \n",
            " )                                                                                                \n",
            "                                                                                                  \n",
            " max_pooling2d_47 (MaxPooling2D  (None, 84, 84, 64)  0           ['batch_normalization_35[0][0]'] \n",
            " )                                                                                                \n",
            "                                                                                                  \n",
            " conv2d_45 (Conv2D)             (None, 82, 82, 32)   18464       ['max_pooling2d_44[0][0]']       \n",
            "                                                                                                  \n",
            " conv2d_48 (Conv2D)             (None, 82, 82, 32)   18464       ['max_pooling2d_47[0][0]']       \n",
            "                                                                                                  \n",
            " batch_normalization_33 (BatchN  (None, 82, 82, 32)  128         ['conv2d_45[0][0]']              \n",
            " ormalization)                                                                                    \n",
            "                                                                                                  \n",
            " batch_normalization_36 (BatchN  (None, 82, 82, 32)  128         ['conv2d_48[0][0]']              \n",
            " ormalization)                                                                                    \n",
            "                                                                                                  \n",
            " max_pooling2d_45 (MaxPooling2D  (None, 27, 27, 32)  0           ['batch_normalization_33[0][0]'] \n",
            " )                                                                                                \n",
            "                                                                                                  \n",
            " max_pooling2d_48 (MaxPooling2D  (None, 27, 27, 32)  0           ['batch_normalization_36[0][0]'] \n",
            " )                                                                                                \n",
            "                                                                                                  \n",
            " conv2d_46 (Conv2D)             (None, 25, 25, 16)   4624        ['max_pooling2d_45[0][0]']       \n",
            "                                                                                                  \n",
            " conv2d_49 (Conv2D)             (None, 25, 25, 16)   4624        ['max_pooling2d_48[0][0]']       \n",
            "                                                                                                  \n",
            " batch_normalization_34 (BatchN  (None, 25, 25, 16)  64          ['conv2d_46[0][0]']              \n",
            " ormalization)                                                                                    \n",
            "                                                                                                  \n",
            " batch_normalization_37 (BatchN  (None, 25, 25, 16)  64          ['conv2d_49[0][0]']              \n",
            " ormalization)                                                                                    \n",
            "                                                                                                  \n",
            " max_pooling2d_46 (MaxPooling2D  (None, 8, 8, 16)    0           ['batch_normalization_34[0][0]'] \n",
            " )                                                                                                \n",
            "                                                                                                  \n",
            " max_pooling2d_49 (MaxPooling2D  (None, 8, 8, 16)    0           ['batch_normalization_37[0][0]'] \n",
            " )                                                                                                \n",
            "                                                                                                  \n",
            " flatten_16 (Flatten)           (None, 1024)         0           ['max_pooling2d_46[0][0]']       \n",
            "                                                                                                  \n",
            " flatten_17 (Flatten)           (None, 1024)         0           ['max_pooling2d_49[0][0]']       \n",
            "                                                                                                  \n",
            " concatenate_8 (Concatenate)    (None, 2048)         0           ['flatten_16[0][0]',             \n",
            "                                                                  'flatten_17[0][0]']             \n",
            "                                                                                                  \n",
            " dense_25 (Dense)               (None, 50)           102450      ['concatenate_8[0][0]']          \n",
            "                                                                                                  \n",
            " dropout_13 (Dropout)           (None, 50)           0           ['dense_25[0][0]']               \n",
            "                                                                                                  \n",
            " dense_26 (Dense)               (None, 20)           1020        ['dropout_13[0][0]']             \n",
            "                                                                                                  \n",
            " dropout_14 (Dropout)           (None, 20)           0           ['dense_26[0][0]']               \n",
            "                                                                                                  \n",
            " dense_27 (Dense)               (None, 1)            21          ['dropout_14[0][0]']             \n",
            "                                                                                                  \n",
            "==================================================================================================\n",
            "Total params: 154,147\n",
            "Trainable params: 153,699\n",
            "Non-trainable params: 448\n",
            "__________________________________________________________________________________________________\n",
            "None\n"
          ]
        }
      ],
      "source": [
        "# summarize layers\n",
        "print(model.summary())"
      ]
    },
    {
      "cell_type": "code",
      "execution_count": 111,
      "metadata": {
        "colab": {
          "base_uri": "https://localhost:8080/",
          "height": 1000
        },
        "id": "gOMiOUZPPbws",
        "outputId": "ce694d75-7505-4db7-e52a-9ed61cf41672"
      },
      "outputs": [
        {
          "output_type": "execute_result",
          "data": {
            "text/plain": [
              "<IPython.core.display.Image object>"
            ],
            "image/png": "[encoded data removed]"
          },
          "metadata": {},
          "execution_count": 111
        }
      ],
      "source": [
        "# plot graph\n",
        "plot_model(model, to_file='/content/drive/MyDrive/Canny/multiple_inputs_Acc_93.3.png')"
      ]
    },
    {
      "cell_type": "code",
      "execution_count": 112,
      "metadata": {
        "colab": {
          "base_uri": "https://localhost:8080/",
          "height": 1000
        },
        "id": "E5kpOWpLjpv3",
        "outputId": "776a077d-83d7-44f4-b5ba-16075945b70b"
      },
      "outputs": [
        {
          "output_type": "execute_result",
          "data": {
            "text/plain": [
              "<IPython.core.display.Image object>"
            ],
            "image/png": "[encoded data removed]"
          },
          "metadata": {},
          "execution_count": 112
        }
      ],
      "source": [
        "plot_model(model, to_file='/content/drive/MyDrive/Canny/model_plot_Acc_93.3.png', show_shapes=True, show_layer_names=True)"
      ]
    },
    {
      "cell_type": "code",
      "execution_count": 97,
      "metadata": {
        "id": "AUJcFQ3razg3"
      },
      "outputs": [],
      "source": [
        "from keras.callbacks import ModelCheckpoint\n",
        "\n",
        "checkpoint = ModelCheckpoint('/content/drive/MyDrive/Canny/best_model_improved.h5',  # model filename\n",
        "                             monitor='val_loss',                                     # quantity to monitor\n",
        "                             verbose=0,                                              # verbosity - 0 or 1\n",
        "                             save_best_only= True,                                   # The latest best model will not be overwritten\n",
        "                             mode='auto')                                            # The decision to overwrite model is made \n",
        "                                                                                     # automatically depending on the quantity to monitor "
      ]
    },
    {
      "cell_type": "code",
      "execution_count": 104,
      "metadata": {
        "id": "meuonbOSPh-q"
      },
      "outputs": [],
      "source": [
        "model.compile(optimizer='adam',\n",
        "              loss = 'binary_crossentropy', \n",
        "              metrics=['accuracy'])"
      ]
    },
    {
      "cell_type": "code",
      "execution_count": 105,
      "metadata": {
        "colab": {
          "base_uri": "https://localhost:8080/"
        },
        "id": "nJdSjxZpq16D",
        "outputId": "34428d37-7f0e-4436-b40f-c1346b89f80e"
      },
      "outputs": [
        {
          "output_type": "stream",
          "name": "stdout",
          "text": [
            "Epoch 1/24\n",
            "100/100 [==============================] - 10s 91ms/step - loss: 0.7243 - accuracy: 0.6463 - val_loss: 0.6360 - val_accuracy: 0.5525\n",
            "Epoch 2/24\n",
            "100/100 [==============================] - 9s 88ms/step - loss: 0.5039 - accuracy: 0.7724 - val_loss: 0.6327 - val_accuracy: 0.6000\n",
            "Epoch 3/24\n",
            "100/100 [==============================] - 9s 87ms/step - loss: 0.4102 - accuracy: 0.8096 - val_loss: 1.9794 - val_accuracy: 0.4550\n",
            "Epoch 4/24\n",
            "100/100 [==============================] - 9s 87ms/step - loss: 0.3633 - accuracy: 0.8335 - val_loss: 0.4092 - val_accuracy: 0.8100\n",
            "Epoch 5/24\n",
            "100/100 [==============================] - 9s 87ms/step - loss: 0.3114 - accuracy: 0.8462 - val_loss: 1.0599 - val_accuracy: 0.5250\n",
            "Epoch 6/24\n",
            "100/100 [==============================] - 9s 87ms/step - loss: 0.2690 - accuracy: 0.8789 - val_loss: 0.3837 - val_accuracy: 0.8300\n",
            "Epoch 7/24\n",
            "100/100 [==============================] - 9s 87ms/step - loss: 0.2303 - accuracy: 0.9142 - val_loss: 0.2644 - val_accuracy: 0.9000\n",
            "Epoch 8/24\n",
            "100/100 [==============================] - 9s 87ms/step - loss: 0.2696 - accuracy: 0.8947 - val_loss: 0.5028 - val_accuracy: 0.8325\n",
            "Epoch 9/24\n",
            "100/100 [==============================] - 9s 88ms/step - loss: 0.2039 - accuracy: 0.9193 - val_loss: 1.4763 - val_accuracy: 0.7950\n",
            "Epoch 10/24\n",
            "100/100 [==============================] - 9s 86ms/step - loss: 0.2111 - accuracy: 0.9168 - val_loss: 1.5225 - val_accuracy: 0.5500\n",
            "Epoch 11/24\n",
            "100/100 [==============================] - 9s 86ms/step - loss: 0.1870 - accuracy: 0.9319 - val_loss: 5.4422 - val_accuracy: 0.4825\n",
            "Epoch 12/24\n",
            "100/100 [==============================] - 9s 86ms/step - loss: 0.1861 - accuracy: 0.9344 - val_loss: 0.3834 - val_accuracy: 0.8275\n",
            "Epoch 13/24\n",
            "100/100 [==============================] - 9s 86ms/step - loss: 0.1697 - accuracy: 0.9496 - val_loss: 0.2912 - val_accuracy: 0.8925\n",
            "Epoch 14/24\n",
            "100/100 [==============================] - 9s 86ms/step - loss: 0.1760 - accuracy: 0.9262 - val_loss: 0.5659 - val_accuracy: 0.8550\n",
            "Epoch 15/24\n",
            "100/100 [==============================] - 9s 86ms/step - loss: 0.1521 - accuracy: 0.9414 - val_loss: 7.5852 - val_accuracy: 0.4650\n",
            "Epoch 16/24\n",
            "100/100 [==============================] - 9s 94ms/step - loss: 0.1489 - accuracy: 0.9464 - val_loss: 0.2103 - val_accuracy: 0.9275\n",
            "Epoch 17/24\n",
            "100/100 [==============================] - 9s 88ms/step - loss: 0.1262 - accuracy: 0.9533 - val_loss: 0.1310 - val_accuracy: 0.9450\n",
            "Epoch 18/24\n",
            "100/100 [==============================] - 9s 88ms/step - loss: 0.1280 - accuracy: 0.9559 - val_loss: 1.1640 - val_accuracy: 0.6450\n",
            "Epoch 19/24\n",
            "100/100 [==============================] - 9s 86ms/step - loss: 0.1681 - accuracy: 0.9426 - val_loss: 5.1188 - val_accuracy: 0.5375\n",
            "Epoch 20/24\n",
            "100/100 [==============================] - 9s 86ms/step - loss: 0.0859 - accuracy: 0.9685 - val_loss: 0.1962 - val_accuracy: 0.9550\n",
            "Epoch 21/24\n",
            "100/100 [==============================] - 9s 86ms/step - loss: 0.0870 - accuracy: 0.9704 - val_loss: 0.2547 - val_accuracy: 0.9450\n",
            "Epoch 22/24\n",
            "100/100 [==============================] - 9s 86ms/step - loss: 0.0819 - accuracy: 0.9697 - val_loss: 1.2583 - val_accuracy: 0.6850\n",
            "Epoch 23/24\n",
            "100/100 [==============================] - 9s 86ms/step - loss: 0.0705 - accuracy: 0.9786 - val_loss: 0.3070 - val_accuracy: 0.8950\n",
            "Epoch 24/24\n",
            "100/100 [==============================] - 9s 86ms/step - loss: 0.0842 - accuracy: 0.9716 - val_loss: 0.2288 - val_accuracy: 0.9325\n"
          ]
        }
      ],
      "source": [
        "history=model.fit([X_train_img, X_train_canny],y_train_img, \n",
        "                  validation_data =([X_test_img,X_test_canny],y_test_img), \n",
        "                  epochs = 24, \n",
        "                  batch_size=16,\n",
        "                  steps_per_epoch=len(X_train_img)//16,\n",
        "                  validation_steps=len(X_test_img)//16,\n",
        "                  callbacks=[checkpoint],\n",
        "                  verbose=1\n",
        "                  )"
      ]
    },
    {
      "cell_type": "code",
      "execution_count": null,
      "metadata": {
        "colab": {
          "base_uri": "https://localhost:8080/"
        },
        "id": "QDlKCRNjt3_7",
        "outputId": "c4fb1788-dff6-4354-986c-b29da239e9df"
      },
      "outputs": [
        {
          "data": {
            "text/plain": [
              "(5, 512, 512, 3)"
            ]
          },
          "execution_count": 36,
          "metadata": {},
          "output_type": "execute_result"
        }
      ],
      "source": [
        "X_train_canny[5:10].shape"
      ]
    },
    {
      "cell_type": "code",
      "execution_count": null,
      "metadata": {
        "colab": {
          "base_uri": "https://localhost:8080/"
        },
        "id": "n1F39DNLu927",
        "outputId": "c8297f47-2de9-425c-8be2-842a50a2399f"
      },
      "outputs": [
        {
          "data": {
            "text/plain": [
              "array([1, 0, 1, 1, 1])"
            ]
          },
          "execution_count": 39,
          "metadata": {},
          "output_type": "execute_result"
        }
      ],
      "source": [
        "y_train_img[5:10]"
      ]
    },
    {
      "cell_type": "code",
      "execution_count": null,
      "metadata": {
        "id": "h7GFJpjpuagq"
      },
      "outputs": [],
      "source": [
        "predictions = model.predict([X_train_img,X_train_canny])"
      ]
    },
    {
      "cell_type": "code",
      "execution_count": null,
      "metadata": {
        "colab": {
          "base_uri": "https://localhost:8080/"
        },
        "id": "GrR5cYfuuNAr",
        "outputId": "16f8ff2c-180f-4edf-8e4b-1646c385e5a8"
      },
      "outputs": [
        {
          "data": {
            "text/plain": [
              "1602"
            ]
          },
          "execution_count": 20,
          "metadata": {},
          "output_type": "execute_result"
        }
      ],
      "source": [
        "len(predictions)"
      ]
    },
    {
      "cell_type": "code",
      "execution_count": null,
      "metadata": {
        "colab": {
          "base_uri": "https://localhost:8080/"
        },
        "id": "AXDrhgOBho-U",
        "outputId": "da8a6ae7-0e96-41cb-a276-70f9efcf7f01"
      },
      "outputs": [
        {
          "data": {
            "text/plain": [
              "1602"
            ]
          },
          "execution_count": 24,
          "metadata": {},
          "output_type": "execute_result"
        }
      ],
      "source": [
        "len(X_train_img)"
      ]
    },
    {
      "cell_type": "code",
      "execution_count": 106,
      "metadata": {
        "colab": {
          "base_uri": "https://localhost:8080/"
        },
        "id": "8kId4FBZvjRe",
        "outputId": "5457f6cb-0dbc-442c-de83-38e66aeecc9e"
      },
      "outputs": [
        {
          "output_type": "stream",
          "name": "stdout",
          "text": [
            "13/13 [==============================] - 1s 38ms/step - loss: 0.2286 - accuracy: 0.9327\n",
            "[0.22864902019500732, 0.9326683282852173]\n"
          ]
        }
      ],
      "source": [
        "# Evaluate the best model with testing data.\n",
        "print(model.evaluate(x=[X_test_img,X_test_canny],y= y_test_img))"
      ]
    },
    {
      "cell_type": "code",
      "execution_count": 107,
      "metadata": {
        "id": "NAjJAXbuwYIm"
      },
      "outputs": [],
      "source": [
        "from sklearn.metrics import confusion_matrix\n",
        "from sklearn.metrics import classification_report\n",
        "#cm = confusion_matrix(y_true = y_train_img[5:10], y_pred = np.argmax(predictions, axis=-1))"
      ]
    },
    {
      "cell_type": "code",
      "execution_count": null,
      "metadata": {
        "id": "-_kiFfhk6RCg"
      },
      "outputs": [],
      "source": [
        ""
      ]
    },
    {
      "cell_type": "code",
      "execution_count": 108,
      "metadata": {
        "colab": {
          "base_uri": "https://localhost:8080/",
          "height": 295
        },
        "id": "ZL6eDLrQZOyK",
        "outputId": "19242d22-0593-4481-a2fc-e15b4f78f379"
      },
      "outputs": [
        {
          "output_type": "display_data",
          "data": {
            "text/plain": [
              "<Figure size 432x288 with 1 Axes>"
            ],
            "image/png": "[encoded data removed]"
          },
          "metadata": {
            "needs_background": "light"
          }
        }
      ],
      "source": [
        "# plot the loss\n",
        "\n",
        "import matplotlib.pyplot as plt\n",
        "\n",
        "plt.plot(history.history['loss'], label='train loss')\n",
        "plt.plot(history.history['val_loss'], label='val loss')\n",
        "plt.title('Model Loss')\n",
        "plt.legend(['Training Loss', 'Test Loss'], loc = 'upper left')\n",
        "\n",
        "plt.xlabel('Epoch')\n",
        "plt.ylabel('Loss')\n",
        "\n",
        "plt.show()"
      ]
    },
    {
      "cell_type": "code",
      "execution_count": 109,
      "metadata": {
        "colab": {
          "base_uri": "https://localhost:8080/",
          "height": 295
        },
        "id": "UhVpTZR4Z78W",
        "outputId": "547e36c1-20cd-4bd8-a380-3cd7d3fc126b"
      },
      "outputs": [
        {
          "output_type": "display_data",
          "data": {
            "text/plain": [
              "<Figure size 432x288 with 1 Axes>"
            ],
            "image/png": "[encoded data removed]"
          },
          "metadata": {
            "needs_background": "light"
          }
        }
      ],
      "source": [
        "# plot the accuracy\n",
        "\n",
        "plt.plot(history.history['accuracy'], label='train acc')\n",
        "plt.plot(history.history['val_accuracy'], label='val acc')\n",
        "plt.legend(['Training Accuracy', 'Test Accuracy'], loc = 'upper left')\n",
        "plt.title('Model Aucuracy')\n",
        "\n",
        "plt.xlabel('Epoch')\n",
        "plt.ylabel('Accuracy')\n",
        "plt.show()"
      ]
    },
    {
      "cell_type": "code",
      "execution_count": 113,
      "metadata": {
        "colab": {
          "base_uri": "https://localhost:8080/"
        },
        "id": "uY0WY9zaeQ8K",
        "outputId": "3d5b4ee5-f0d2-42f6-a121-017f3e828555"
      },
      "outputs": [
        {
          "output_type": "execute_result",
          "data": {
            "text/plain": [
              "array([[1.00000000e+00],\n",
              "       [9.55177784e-01],\n",
              "       [4.12705442e-04],\n",
              "       [9.67105443e-05],\n",
              "       [2.49076751e-03],\n",
              "       [1.75765753e-01],\n",
              "       [9.99999881e-01],\n",
              "       [1.44018913e-02],\n",
              "       [7.51325712e-02],\n",
              "       [7.76799675e-03],\n",
              "       [9.99986768e-01],\n",
              "       [1.15271509e-02],\n",
              "       [9.99960184e-01],\n",
              "       [2.76275357e-04],\n",
              "       [8.77797067e-01],\n",
              "       [9.98856902e-01],\n",
              "       [5.21377334e-03],\n",
              "       [1.00000000e+00],\n",
              "       [1.26770791e-03],\n",
              "       [1.13305904e-01],\n",
              "       [1.00000000e+00],\n",
              "       [2.78538354e-02],\n",
              "       [9.99999881e-01],\n",
              "       [2.83611030e-03],\n",
              "       [5.37500717e-04],\n",
              "       [9.83357080e-04],\n",
              "       [2.06647371e-03],\n",
              "       [3.74512076e-02],\n",
              "       [1.00000000e+00],\n",
              "       [3.14786984e-03],\n",
              "       [5.77888861e-02],\n",
              "       [9.99994874e-01],\n",
              "       [3.93427035e-04],\n",
              "       [9.10249539e-03],\n",
              "       [1.38559014e-01],\n",
              "       [2.86246508e-01],\n",
              "       [9.99553144e-01],\n",
              "       [9.99987721e-01],\n",
              "       [1.87400281e-01],\n",
              "       [9.99996185e-01],\n",
              "       [1.00000000e+00],\n",
              "       [1.00000000e+00],\n",
              "       [8.49541903e-01],\n",
              "       [9.99999881e-01],\n",
              "       [1.82968751e-02],\n",
              "       [9.99992967e-01],\n",
              "       [8.77083465e-03],\n",
              "       [1.00000000e+00],\n",
              "       [6.47484839e-01],\n",
              "       [8.82395923e-01],\n",
              "       [1.00000000e+00],\n",
              "       [1.00000000e+00],\n",
              "       [9.99999881e-01],\n",
              "       [5.32310233e-02],\n",
              "       [1.00000000e+00],\n",
              "       [3.11149627e-01],\n",
              "       [7.04202219e-04],\n",
              "       [9.91977274e-01],\n",
              "       [1.00000000e+00],\n",
              "       [2.19883543e-04],\n",
              "       [9.99998331e-01],\n",
              "       [9.99916315e-01],\n",
              "       [9.25971866e-01],\n",
              "       [1.74313464e-05],\n",
              "       [9.99999762e-01],\n",
              "       [1.00000000e+00],\n",
              "       [9.99999642e-01],\n",
              "       [2.55655974e-01],\n",
              "       [5.58292985e-01],\n",
              "       [4.02743649e-03],\n",
              "       [9.99561727e-01],\n",
              "       [9.99994397e-01],\n",
              "       [9.98895526e-01],\n",
              "       [9.82788503e-01],\n",
              "       [9.99999881e-01],\n",
              "       [1.00000000e+00],\n",
              "       [5.28352670e-02],\n",
              "       [9.99999881e-01],\n",
              "       [1.00000000e+00],\n",
              "       [1.21912643e-01],\n",
              "       [1.00000000e+00],\n",
              "       [9.99999762e-01],\n",
              "       [9.99996185e-01],\n",
              "       [1.00000000e+00],\n",
              "       [9.90877450e-01],\n",
              "       [1.00000000e+00],\n",
              "       [9.98999059e-01],\n",
              "       [8.17891117e-03],\n",
              "       [1.00000000e+00],\n",
              "       [1.00000000e+00],\n",
              "       [9.99999881e-01],\n",
              "       [2.01023538e-02],\n",
              "       [9.99999881e-01],\n",
              "       [9.99999762e-01],\n",
              "       [4.95136827e-02],\n",
              "       [1.01959263e-03],\n",
              "       [9.99998569e-01],\n",
              "       [1.65210385e-03],\n",
              "       [1.35751252e-04],\n",
              "       [1.00000000e+00],\n",
              "       [1.00000000e+00],\n",
              "       [5.65897673e-02],\n",
              "       [9.99992967e-01],\n",
              "       [1.00000000e+00],\n",
              "       [1.00000000e+00],\n",
              "       [1.00000000e+00],\n",
              "       [1.00000000e+00],\n",
              "       [2.96556478e-04],\n",
              "       [6.60290569e-02],\n",
              "       [8.74865949e-02],\n",
              "       [2.95946300e-01],\n",
              "       [6.65667409e-04],\n",
              "       [1.60367992e-02],\n",
              "       [1.00000000e+00],\n",
              "       [9.98796821e-01],\n",
              "       [8.79800296e-04],\n",
              "       [9.99999881e-01],\n",
              "       [1.00000000e+00],\n",
              "       [5.90025913e-04],\n",
              "       [9.73599374e-01],\n",
              "       [3.21746357e-02],\n",
              "       [6.47804188e-03],\n",
              "       [2.95960426e-01],\n",
              "       [1.82516101e-06],\n",
              "       [1.37228090e-02],\n",
              "       [1.25533191e-03],\n",
              "       [1.56307910e-02],\n",
              "       [1.00000000e+00],\n",
              "       [9.99998689e-01],\n",
              "       [1.07679497e-02],\n",
              "       [3.05696398e-01],\n",
              "       [9.99956369e-01],\n",
              "       [9.96412337e-01],\n",
              "       [1.00000000e+00],\n",
              "       [1.26075640e-01],\n",
              "       [1.00000000e+00],\n",
              "       [1.00000000e+00],\n",
              "       [9.99963760e-01],\n",
              "       [9.99999642e-01],\n",
              "       [2.66889691e-01],\n",
              "       [1.00000000e+00],\n",
              "       [9.98927653e-01],\n",
              "       [5.63257188e-03],\n",
              "       [9.93261874e-01],\n",
              "       [5.63154987e-04],\n",
              "       [1.33952219e-03],\n",
              "       [1.18547902e-02],\n",
              "       [1.55368343e-03],\n",
              "       [9.99999285e-01],\n",
              "       [4.43019718e-02],\n",
              "       [1.00000000e+00],\n",
              "       [9.99995708e-01],\n",
              "       [5.17101958e-03],\n",
              "       [9.99993086e-01],\n",
              "       [1.00000000e+00],\n",
              "       [1.90140251e-02],\n",
              "       [6.07700348e-02],\n",
              "       [1.30011281e-02],\n",
              "       [3.67164705e-03],\n",
              "       [9.99787152e-01],\n",
              "       [6.42798695e-05],\n",
              "       [9.99024034e-01],\n",
              "       [8.77917930e-03],\n",
              "       [9.15618777e-01],\n",
              "       [1.03416137e-01],\n",
              "       [3.25698435e-04],\n",
              "       [8.74753952e-01],\n",
              "       [9.99997497e-01],\n",
              "       [1.42150995e-04],\n",
              "       [9.98995960e-01],\n",
              "       [1.00000000e+00],\n",
              "       [5.53696940e-04],\n",
              "       [1.00000000e+00],\n",
              "       [1.00000000e+00],\n",
              "       [3.23213101e-03],\n",
              "       [1.00000000e+00],\n",
              "       [1.83544646e-04],\n",
              "       [4.38393094e-03],\n",
              "       [1.79651426e-03],\n",
              "       [1.07167510e-03],\n",
              "       [1.00000000e+00],\n",
              "       [1.00000000e+00],\n",
              "       [2.58311685e-02],\n",
              "       [1.00000000e+00],\n",
              "       [9.99999881e-01],\n",
              "       [9.99999404e-01],\n",
              "       [1.00000000e+00],\n",
              "       [8.98901761e-01],\n",
              "       [1.00000000e+00],\n",
              "       [3.67653966e-02],\n",
              "       [1.00000000e+00],\n",
              "       [9.99981284e-01],\n",
              "       [5.82440346e-02],\n",
              "       [9.99450862e-01],\n",
              "       [5.48369111e-03],\n",
              "       [9.99566853e-01],\n",
              "       [1.00000000e+00],\n",
              "       [1.00000000e+00],\n",
              "       [9.81363535e-01],\n",
              "       [9.99999046e-01],\n",
              "       [9.99995589e-01],\n",
              "       [1.00000000e+00],\n",
              "       [9.99981165e-01],\n",
              "       [9.99999881e-01],\n",
              "       [1.00000000e+00],\n",
              "       [1.00000000e+00],\n",
              "       [3.59877527e-01],\n",
              "       [1.55209218e-05],\n",
              "       [4.61905077e-03],\n",
              "       [6.71397686e-01],\n",
              "       [8.92239392e-01],\n",
              "       [9.99999762e-01],\n",
              "       [1.24297314e-03],\n",
              "       [1.00000000e+00],\n",
              "       [1.00000000e+00],\n",
              "       [5.27016282e-01],\n",
              "       [1.00000000e+00],\n",
              "       [1.00000000e+00],\n",
              "       [9.95931804e-01],\n",
              "       [9.55970407e-01],\n",
              "       [9.99999166e-01],\n",
              "       [8.91676307e-01],\n",
              "       [1.00000000e+00],\n",
              "       [1.00000000e+00],\n",
              "       [9.99994040e-01],\n",
              "       [9.99997735e-01],\n",
              "       [9.99526739e-01],\n",
              "       [9.99999166e-01],\n",
              "       [9.45092320e-01],\n",
              "       [1.00000000e+00],\n",
              "       [1.00000000e+00],\n",
              "       [1.00000000e+00],\n",
              "       [9.99999881e-01],\n",
              "       [3.89977758e-05],\n",
              "       [2.40563005e-01],\n",
              "       [1.00000000e+00],\n",
              "       [5.22744516e-03],\n",
              "       [5.59888314e-03],\n",
              "       [1.00000000e+00],\n",
              "       [9.07598913e-01],\n",
              "       [1.00000000e+00],\n",
              "       [1.00000000e+00],\n",
              "       [1.00000000e+00],\n",
              "       [1.00000000e+00],\n",
              "       [4.27401159e-04],\n",
              "       [1.00000000e+00],\n",
              "       [9.99999881e-01],\n",
              "       [9.98106599e-01],\n",
              "       [9.99830842e-01],\n",
              "       [9.99872565e-01],\n",
              "       [1.00000000e+00],\n",
              "       [1.00000000e+00],\n",
              "       [1.67637644e-03],\n",
              "       [9.99995947e-01],\n",
              "       [9.12280083e-01],\n",
              "       [9.99986291e-01],\n",
              "       [1.00000000e+00],\n",
              "       [1.00000000e+00],\n",
              "       [9.96001065e-01],\n",
              "       [9.63703811e-01],\n",
              "       [1.00000000e+00],\n",
              "       [9.82407749e-01],\n",
              "       [9.74978209e-01],\n",
              "       [1.51230872e-01],\n",
              "       [1.93967205e-02],\n",
              "       [1.15258507e-02],\n",
              "       [8.09741393e-03],\n",
              "       [3.15658849e-06],\n",
              "       [1.00000000e+00],\n",
              "       [9.99968410e-01],\n",
              "       [1.00000000e+00],\n",
              "       [1.56487152e-03],\n",
              "       [6.98471966e-04],\n",
              "       [9.95691359e-01],\n",
              "       [8.83360445e-01],\n",
              "       [8.03058803e-01],\n",
              "       [1.81731544e-02],\n",
              "       [9.99248922e-01],\n",
              "       [9.98019218e-01],\n",
              "       [9.99979496e-01],\n",
              "       [9.98226345e-01],\n",
              "       [8.97654099e-05],\n",
              "       [1.00000000e+00],\n",
              "       [5.65959420e-03],\n",
              "       [9.90895033e-01],\n",
              "       [1.59284532e-01],\n",
              "       [1.00000000e+00],\n",
              "       [2.71590520e-02],\n",
              "       [9.85895216e-01],\n",
              "       [9.99972939e-01],\n",
              "       [9.99772370e-01],\n",
              "       [1.00000000e+00],\n",
              "       [1.32696003e-01],\n",
              "       [6.51864931e-02],\n",
              "       [2.14290600e-02],\n",
              "       [9.99894381e-01],\n",
              "       [9.99745786e-01],\n",
              "       [2.81906105e-03],\n",
              "       [1.00000000e+00],\n",
              "       [2.38080484e-05],\n",
              "       [5.72626851e-02],\n",
              "       [1.00000000e+00],\n",
              "       [9.99976277e-01],\n",
              "       [9.99661803e-01],\n",
              "       [9.99997854e-01],\n",
              "       [3.76669168e-01],\n",
              "       [1.00000000e+00],\n",
              "       [9.99865174e-01],\n",
              "       [1.12199166e-03],\n",
              "       [1.91740051e-01],\n",
              "       [1.12399587e-03],\n",
              "       [3.74058727e-05],\n",
              "       [1.38578145e-02],\n",
              "       [9.99999881e-01],\n",
              "       [9.08516288e-01],\n",
              "       [1.00000000e+00],\n",
              "       [4.99230018e-03],\n",
              "       [9.99995708e-01],\n",
              "       [1.19935945e-02],\n",
              "       [1.00000000e+00],\n",
              "       [1.68176264e-01],\n",
              "       [1.00000000e+00],\n",
              "       [1.00000000e+00],\n",
              "       [1.00000000e+00],\n",
              "       [1.00000000e+00],\n",
              "       [1.00000000e+00],\n",
              "       [2.24463716e-02],\n",
              "       [2.81228647e-02],\n",
              "       [4.41821554e-04],\n",
              "       [9.99852180e-01],\n",
              "       [1.00000000e+00],\n",
              "       [7.03180134e-01],\n",
              "       [1.00000000e+00],\n",
              "       [7.46764898e-01],\n",
              "       [1.00000000e+00],\n",
              "       [4.99961374e-04],\n",
              "       [1.00000000e+00],\n",
              "       [9.99944448e-01],\n",
              "       [9.99999404e-01],\n",
              "       [9.76930499e-01],\n",
              "       [9.99998212e-01],\n",
              "       [5.86605370e-02],\n",
              "       [8.05604446e-04],\n",
              "       [8.64435732e-03],\n",
              "       [2.42903433e-03],\n",
              "       [8.07334304e-01],\n",
              "       [1.97383473e-04],\n",
              "       [1.00000000e+00],\n",
              "       [5.89144509e-03],\n",
              "       [1.00000000e+00],\n",
              "       [9.99966145e-01],\n",
              "       [1.51795998e-01],\n",
              "       [9.99994159e-01],\n",
              "       [2.65122443e-01],\n",
              "       [5.80083532e-03],\n",
              "       [9.99900579e-01],\n",
              "       [9.99999881e-01],\n",
              "       [2.97287256e-02],\n",
              "       [9.99895215e-01],\n",
              "       [9.99928594e-01],\n",
              "       [1.00000000e+00],\n",
              "       [9.14239466e-01],\n",
              "       [8.19562450e-02],\n",
              "       [4.73241918e-02],\n",
              "       [9.84504223e-01],\n",
              "       [3.32879573e-01],\n",
              "       [9.99999404e-01],\n",
              "       [9.99999642e-01],\n",
              "       [1.00000000e+00],\n",
              "       [9.26087843e-04],\n",
              "       [7.40009313e-03],\n",
              "       [1.00000000e+00],\n",
              "       [9.99866843e-01],\n",
              "       [1.00000000e+00],\n",
              "       [1.46625808e-03],\n",
              "       [7.13024696e-04],\n",
              "       [2.40590304e-01],\n",
              "       [9.97950733e-01],\n",
              "       [1.00000000e+00],\n",
              "       [1.00000000e+00],\n",
              "       [3.00895539e-03],\n",
              "       [9.99997377e-01],\n",
              "       [9.99788702e-01],\n",
              "       [9.99347746e-01],\n",
              "       [4.21435252e-04],\n",
              "       [9.71154950e-04],\n",
              "       [2.20117122e-01],\n",
              "       [1.00000000e+00],\n",
              "       [1.71209441e-03],\n",
              "       [1.00000000e+00],\n",
              "       [1.00000000e+00],\n",
              "       [9.99999762e-01],\n",
              "       [1.00000000e+00],\n",
              "       [1.00000000e+00],\n",
              "       [9.54225600e-01],\n",
              "       [2.64814615e-01],\n",
              "       [8.37924657e-04],\n",
              "       [1.00000000e+00],\n",
              "       [9.99997497e-01],\n",
              "       [4.27412624e-06],\n",
              "       [1.59709856e-01]], dtype=float32)"
            ]
          },
          "metadata": {},
          "execution_count": 113
        }
      ],
      "source": [
        "y_pred = model.predict([X_test_img, X_test_canny])\n",
        "y_pred"
      ]
    },
    {
      "cell_type": "code",
      "execution_count": 114,
      "metadata": {
        "id": "lmnsA7MWtzvU"
      },
      "outputs": [],
      "source": [
        "pred = []\n",
        "for i in y_pred:\n",
        "  if i[0] < 0.5:\n",
        "    pred.append(0)\n",
        "\n",
        "  else:\n",
        "    pred.append(1)"
      ]
    },
    {
      "cell_type": "code",
      "execution_count": 115,
      "metadata": {
        "colab": {
          "base_uri": "https://localhost:8080/"
        },
        "id": "hqkK8sBrt1X7",
        "outputId": "2a41edbd-6093-4c87-89f4-9c97f6996aa9"
      },
      "outputs": [
        {
          "output_type": "execute_result",
          "data": {
            "text/plain": [
              "[1,\n",
              " 1,\n",
              " 0,\n",
              " 0,\n",
              " 0,\n",
              " 0,\n",
              " 1,\n",
              " 0,\n",
              " 0,\n",
              " 0,\n",
              " 1,\n",
              " 0,\n",
              " 1,\n",
              " 0,\n",
              " 1,\n",
              " 1,\n",
              " 0,\n",
              " 1,\n",
              " 0,\n",
              " 0,\n",
              " 1,\n",
              " 0,\n",
              " 1,\n",
              " 0,\n",
              " 0,\n",
              " 0,\n",
              " 0,\n",
              " 0,\n",
              " 1,\n",
              " 0,\n",
              " 0,\n",
              " 1,\n",
              " 0,\n",
              " 0,\n",
              " 0,\n",
              " 0,\n",
              " 1,\n",
              " 1,\n",
              " 0,\n",
              " 1,\n",
              " 1,\n",
              " 1,\n",
              " 1,\n",
              " 1,\n",
              " 0,\n",
              " 1,\n",
              " 0,\n",
              " 1,\n",
              " 1,\n",
              " 1,\n",
              " 1,\n",
              " 1,\n",
              " 1,\n",
              " 0,\n",
              " 1,\n",
              " 0,\n",
              " 0,\n",
              " 1,\n",
              " 1,\n",
              " 0,\n",
              " 1,\n",
              " 1,\n",
              " 1,\n",
              " 0,\n",
              " 1,\n",
              " 1,\n",
              " 1,\n",
              " 0,\n",
              " 1,\n",
              " 0,\n",
              " 1,\n",
              " 1,\n",
              " 1,\n",
              " 1,\n",
              " 1,\n",
              " 1,\n",
              " 0,\n",
              " 1,\n",
              " 1,\n",
              " 0,\n",
              " 1,\n",
              " 1,\n",
              " 1,\n",
              " 1,\n",
              " 1,\n",
              " 1,\n",
              " 1,\n",
              " 0,\n",
              " 1,\n",
              " 1,\n",
              " 1,\n",
              " 0,\n",
              " 1,\n",
              " 1,\n",
              " 0,\n",
              " 0,\n",
              " 1,\n",
              " 0,\n",
              " 0,\n",
              " 1,\n",
              " 1,\n",
              " 0,\n",
              " 1,\n",
              " 1,\n",
              " 1,\n",
              " 1,\n",
              " 1,\n",
              " 0,\n",
              " 0,\n",
              " 0,\n",
              " 0,\n",
              " 0,\n",
              " 0,\n",
              " 1,\n",
              " 1,\n",
              " 0,\n",
              " 1,\n",
              " 1,\n",
              " 0,\n",
              " 1,\n",
              " 0,\n",
              " 0,\n",
              " 0,\n",
              " 0,\n",
              " 0,\n",
              " 0,\n",
              " 0,\n",
              " 1,\n",
              " 1,\n",
              " 0,\n",
              " 0,\n",
              " 1,\n",
              " 1,\n",
              " 1,\n",
              " 0,\n",
              " 1,\n",
              " 1,\n",
              " 1,\n",
              " 1,\n",
              " 0,\n",
              " 1,\n",
              " 1,\n",
              " 0,\n",
              " 1,\n",
              " 0,\n",
              " 0,\n",
              " 0,\n",
              " 0,\n",
              " 1,\n",
              " 0,\n",
              " 1,\n",
              " 1,\n",
              " 0,\n",
              " 1,\n",
              " 1,\n",
              " 0,\n",
              " 0,\n",
              " 0,\n",
              " 0,\n",
              " 1,\n",
              " 0,\n",
              " 1,\n",
              " 0,\n",
              " 1,\n",
              " 0,\n",
              " 0,\n",
              " 1,\n",
              " 1,\n",
              " 0,\n",
              " 1,\n",
              " 1,\n",
              " 0,\n",
              " 1,\n",
              " 1,\n",
              " 0,\n",
              " 1,\n",
              " 0,\n",
              " 0,\n",
              " 0,\n",
              " 0,\n",
              " 1,\n",
              " 1,\n",
              " 0,\n",
              " 1,\n",
              " 1,\n",
              " 1,\n",
              " 1,\n",
              " 1,\n",
              " 1,\n",
              " 0,\n",
              " 1,\n",
              " 1,\n",
              " 0,\n",
              " 1,\n",
              " 0,\n",
              " 1,\n",
              " 1,\n",
              " 1,\n",
              " 1,\n",
              " 1,\n",
              " 1,\n",
              " 1,\n",
              " 1,\n",
              " 1,\n",
              " 1,\n",
              " 1,\n",
              " 0,\n",
              " 0,\n",
              " 0,\n",
              " 1,\n",
              " 1,\n",
              " 1,\n",
              " 0,\n",
              " 1,\n",
              " 1,\n",
              " 1,\n",
              " 1,\n",
              " 1,\n",
              " 1,\n",
              " 1,\n",
              " 1,\n",
              " 1,\n",
              " 1,\n",
              " 1,\n",
              " 1,\n",
              " 1,\n",
              " 1,\n",
              " 1,\n",
              " 1,\n",
              " 1,\n",
              " 1,\n",
              " 1,\n",
              " 1,\n",
              " 0,\n",
              " 0,\n",
              " 1,\n",
              " 0,\n",
              " 0,\n",
              " 1,\n",
              " 1,\n",
              " 1,\n",
              " 1,\n",
              " 1,\n",
              " 1,\n",
              " 0,\n",
              " 1,\n",
              " 1,\n",
              " 1,\n",
              " 1,\n",
              " 1,\n",
              " 1,\n",
              " 1,\n",
              " 0,\n",
              " 1,\n",
              " 1,\n",
              " 1,\n",
              " 1,\n",
              " 1,\n",
              " 1,\n",
              " 1,\n",
              " 1,\n",
              " 1,\n",
              " 1,\n",
              " 0,\n",
              " 0,\n",
              " 0,\n",
              " 0,\n",
              " 0,\n",
              " 1,\n",
              " 1,\n",
              " 1,\n",
              " 0,\n",
              " 0,\n",
              " 1,\n",
              " 1,\n",
              " 1,\n",
              " 0,\n",
              " 1,\n",
              " 1,\n",
              " 1,\n",
              " 1,\n",
              " 0,\n",
              " 1,\n",
              " 0,\n",
              " 1,\n",
              " 0,\n",
              " 1,\n",
              " 0,\n",
              " 1,\n",
              " 1,\n",
              " 1,\n",
              " 1,\n",
              " 0,\n",
              " 0,\n",
              " 0,\n",
              " 1,\n",
              " 1,\n",
              " 0,\n",
              " 1,\n",
              " 0,\n",
              " 0,\n",
              " 1,\n",
              " 1,\n",
              " 1,\n",
              " 1,\n",
              " 0,\n",
              " 1,\n",
              " 1,\n",
              " 0,\n",
              " 0,\n",
              " 0,\n",
              " 0,\n",
              " 0,\n",
              " 1,\n",
              " 1,\n",
              " 1,\n",
              " 0,\n",
              " 1,\n",
              " 0,\n",
              " 1,\n",
              " 0,\n",
              " 1,\n",
              " 1,\n",
              " 1,\n",
              " 1,\n",
              " 1,\n",
              " 0,\n",
              " 0,\n",
              " 0,\n",
              " 1,\n",
              " 1,\n",
              " 1,\n",
              " 1,\n",
              " 1,\n",
              " 1,\n",
              " 0,\n",
              " 1,\n",
              " 1,\n",
              " 1,\n",
              " 1,\n",
              " 1,\n",
              " 0,\n",
              " 0,\n",
              " 0,\n",
              " 0,\n",
              " 1,\n",
              " 0,\n",
              " 1,\n",
              " 0,\n",
              " 1,\n",
              " 1,\n",
              " 0,\n",
              " 1,\n",
              " 0,\n",
              " 0,\n",
              " 1,\n",
              " 1,\n",
              " 0,\n",
              " 1,\n",
              " 1,\n",
              " 1,\n",
              " 1,\n",
              " 0,\n",
              " 0,\n",
              " 1,\n",
              " 0,\n",
              " 1,\n",
              " 1,\n",
              " 1,\n",
              " 0,\n",
              " 0,\n",
              " 1,\n",
              " 1,\n",
              " 1,\n",
              " 0,\n",
              " 0,\n",
              " 0,\n",
              " 1,\n",
              " 1,\n",
              " 1,\n",
              " 0,\n",
              " 1,\n",
              " 1,\n",
              " 1,\n",
              " 0,\n",
              " 0,\n",
              " 0,\n",
              " 1,\n",
              " 0,\n",
              " 1,\n",
              " 1,\n",
              " 1,\n",
              " 1,\n",
              " 1,\n",
              " 1,\n",
              " 0,\n",
              " 0,\n",
              " 1,\n",
              " 1,\n",
              " 0,\n",
              " 0]"
            ]
          },
          "metadata": {},
          "execution_count": 115
        }
      ],
      "source": [
        "pred"
      ]
    },
    {
      "cell_type": "code",
      "execution_count": null,
      "metadata": {
        "id": "fsBl2FaovZBl"
      },
      "outputs": [],
      "source": [
        "# y_true1 = ([X_test_img, X_test_canny]).classes\n"
      ]
    },
    {
      "cell_type": "code",
      "execution_count": 47,
      "metadata": {
        "colab": {
          "base_uri": "https://localhost:8080/"
        },
        "id": "CNjrePOnt8Zb",
        "outputId": "d403391f-447b-4f0c-893a-8a775311a11b"
      },
      "outputs": [
        {
          "output_type": "execute_result",
          "data": {
            "text/plain": [
              "401"
            ]
          },
          "metadata": {},
          "execution_count": 47
        }
      ],
      "source": [
        "len(pred)"
      ]
    },
    {
      "cell_type": "code",
      "execution_count": 49,
      "metadata": {
        "id": "cw9edJ3_vqLt"
      },
      "outputs": [],
      "source": [
        "#len(y_true1)"
      ]
    },
    {
      "cell_type": "code",
      "execution_count": 76,
      "metadata": {
        "id": "kj8O15SQvwLQ"
      },
      "outputs": [],
      "source": [
        "from sklearn.metrics import confusion_matrix\n",
        "from sklearn.metrics import classification_report"
      ]
    },
    {
      "cell_type": "code",
      "execution_count": 116,
      "metadata": {
        "colab": {
          "base_uri": "https://localhost:8080/"
        },
        "id": "3019hbVevzps",
        "outputId": "94b69097-9b41-4b1e-dcdf-28a3b37adf2c"
      },
      "outputs": [
        {
          "output_type": "execute_result",
          "data": {
            "text/plain": [
              "array([[155,  26],\n",
              "       [  1, 219]])"
            ]
          },
          "metadata": {},
          "execution_count": 116
        }
      ],
      "source": [
        "cm = confusion_matrix(y_test_img,pred)\n",
        "cm"
      ]
    },
    {
      "cell_type": "code",
      "execution_count": 117,
      "metadata": {
        "colab": {
          "base_uri": "https://localhost:8080/",
          "height": 501
        },
        "id": "ug89EiFBvzs2",
        "outputId": "a1837e98-a7eb-419c-f216-d18d5a8406fb"
      },
      "outputs": [
        {
          "output_type": "display_data",
          "data": {
            "text/plain": [
              "<Figure size 540x540 with 1 Axes>"
            ],
            "image/png": "[encoded data removed]"
          },
          "metadata": {
            "needs_background": "light"
          }
        }
      ],
      "source": [
        "import matplotlib.pyplot as plt\n",
        "fig, ax = plt.subplots(figsize=(7.5, 7.5))\n",
        "ax.matshow(cm, cmap=plt.cm.Blues, alpha=0.3)\n",
        "for i in range(cm.shape[0]):\n",
        "    for j in range(cm.shape[1]):\n",
        "        ax.text(x=j, y=i,s=cm[i, j], va='center', ha='center', size='xx-large')\n",
        " \n",
        "plt.xlabel('Predictions', fontsize=18)\n",
        "plt.ylabel('Actuals', fontsize=18)\n",
        "plt.title('Confusion Matrix', fontsize=18)\n",
        "plt.show()"
      ]
    },
    {
      "cell_type": "code",
      "execution_count": 118,
      "metadata": {
        "colab": {
          "base_uri": "https://localhost:8080/",
          "height": 337
        },
        "id": "RDBgGKPSvzwN",
        "outputId": "915d0437-2b0b-47a1-aca7-4385e1323d0d"
      },
      "outputs": [
        {
          "output_type": "display_data",
          "data": {
            "text/plain": [
              "<Figure size 432x288 with 2 Axes>"
            ],
            "image/png": "[encoded data removed]"
          },
          "metadata": {
            "needs_background": "light"
          }
        }
      ],
      "source": [
        "import seaborn as sns\n",
        "\n",
        "group_counts = [\"{0:0.0f}\".format(value) for value in\n",
        "                cm.flatten()]\n",
        "\n",
        "group_percentages = [\"{0:.2%}\".format(value) for value in\n",
        "                     cm.flatten()/np.sum(cm)]\n",
        "\n",
        "labels = [f\"{v1}\\n{v2}\" for v1, v2 in\n",
        "          zip(group_counts,group_percentages)]\n",
        "\n",
        "labels = np.asarray(labels).reshape(2,2)\n",
        "\n",
        "ax = sns.heatmap(cm, annot=labels, fmt='', cmap='Blues')\n",
        "\n",
        "ax.set_title('Confusion Matrix\\n\\n');\n",
        "ax.set_xlabel('\\nPredicted Values')\n",
        "ax.set_ylabel('Actual Values ');\n",
        "\n",
        "## Ticket labels - List must be in alphabetical order\n",
        "ax.xaxis.set_ticklabels(['True','False'])\n",
        "ax.yaxis.set_ticklabels(['True','False'])\n",
        "\n",
        "## Display the visualization of the Confusion Matrix.\n",
        "plt.show()"
      ]
    },
    {
      "cell_type": "code",
      "execution_count": 119,
      "metadata": {
        "colab": {
          "base_uri": "https://localhost:8080/"
        },
        "id": "gh52ele3iORK",
        "outputId": "42166a27-6aa1-4b2e-87eb-d702ce562470"
      },
      "outputs": [
        {
          "output_type": "stream",
          "name": "stdout",
          "text": [
            "Precision: 0.894\n",
            "Recall: 0.995\n",
            "Accuracy: 0.933\n",
            "F1 Score: 0.942\n"
          ]
        }
      ],
      "source": [
        "from sklearn.metrics import classification_report\n",
        "\n",
        "from sklearn.metrics import precision_score, recall_score, f1_score, accuracy_score\n",
        "\n",
        "print('Precision: %.3f' % precision_score(y_test_img,pred))\n",
        "\n",
        "print('Recall: %.3f' % recall_score(y_test_img,pred))\n",
        "\n",
        "print('Accuracy: %.3f' % accuracy_score(y_test_img,pred))\n",
        "\n",
        "print('F1 Score: %.3f' % f1_score(y_test_img,pred))"
      ]
    },
    {
      "cell_type": "code",
      "execution_count": 120,
      "metadata": {
        "colab": {
          "base_uri": "https://localhost:8080/"
        },
        "id": "Hn2u9WcujGDj",
        "outputId": "7295c0be-06e2-45fe-ef86-ce69b2b1e33f"
      },
      "outputs": [
        {
          "output_type": "stream",
          "name": "stdout",
          "text": [
            "              precision    recall  f1-score   support\n",
            "\n",
            "         OKC       0.99      0.86      0.92       181\n",
            "     Non-OKC       0.89      1.00      0.94       220\n",
            "\n",
            "    accuracy                           0.93       401\n",
            "   macro avg       0.94      0.93      0.93       401\n",
            "weighted avg       0.94      0.93      0.93       401\n",
            "\n"
          ]
        }
      ],
      "source": [
        "target_names = ['OKC', 'Non-OKC']\n",
        "print(classification_report(y_test_img,pred, target_names=target_names))"
      ]
    },
    {
      "cell_type": "code",
      "execution_count": 82,
      "metadata": {
        "id": "dLhq9kkHiE8E"
      },
      "outputs": [],
      "source": [
        "import pandas as pd\n",
        "import numpy as np\n",
        "from sklearn.model_selection import train_test_split\n",
        "from sklearn.linear_model import LogisticRegression\n",
        "from sklearn import metrics\n",
        "import matplotlib.pyplot as plt"
      ]
    },
    {
      "cell_type": "code",
      "execution_count": 121,
      "metadata": {
        "id": "XVYm2WWOiFs5"
      },
      "outputs": [],
      "source": [
        "from sklearn.metrics import roc_curve, roc_auc_score\n",
        "false_positive_rate1, true_positive_rate1, threshold1 = roc_curve(y_test_img, pred)"
      ]
    },
    {
      "cell_type": "code",
      "execution_count": 122,
      "metadata": {
        "colab": {
          "base_uri": "https://localhost:8080/"
        },
        "id": "x4rxWxhSjeEg",
        "outputId": "6f91eb7f-9b82-451b-9029-aae3db9302f9"
      },
      "outputs": [
        {
          "output_type": "stream",
          "name": "stdout",
          "text": [
            "roc_auc_score : 0.9259040683073834\n"
          ]
        }
      ],
      "source": [
        "print('roc_auc_score :', roc_auc_score(y_test_img, pred))"
      ]
    },
    {
      "cell_type": "code",
      "execution_count": 123,
      "metadata": {
        "colab": {
          "base_uri": "https://localhost:8080/",
          "height": 367
        },
        "id": "NCaVwyRWwgb_",
        "outputId": "09ca1ffd-3e09-4ccc-fb40-7c3f1dcc4b93"
      },
      "outputs": [
        {
          "output_type": "display_data",
          "data": {
            "text/plain": [
              "<Figure size 360x360 with 1 Axes>"
            ],
            "image/png": "[encoded data removed]"
          },
          "metadata": {
            "needs_background": "light"
          }
        },
        {
          "output_type": "stream",
          "name": "stdout",
          "text": [
            "roc_auc_score : 0.9259040683073834\n"
          ]
        }
      ],
      "source": [
        "plt.subplots(1, figsize=(5,5))\n",
        "plt.title('Receiver Operating Characteristic')\n",
        "plt.plot(false_positive_rate1, true_positive_rate1)\n",
        "plt.plot([0, 1], ls=\"--\")\n",
        "plt.ylabel('True Positive Rate')\n",
        "plt.xlabel('False Positive Rate')\n",
        "plt.show()\n",
        "print('roc_auc_score :', roc_auc_score(y_test_img, pred))"
      ]
    },
    {
      "cell_type": "code",
      "execution_count": 124,
      "metadata": {
        "id": "nR9Ls-WByRXM"
      },
      "outputs": [],
      "source": [
        "model.save('/content/drive/MyDrive/Canny/Nivedan_Functional_3_Accuracy_93.3.h5')"
      ]
    },
    {
      "cell_type": "code",
      "execution_count": null,
      "metadata": {
        "id": "0BQQCc_XrOCW"
      },
      "outputs": [],
      "source": [
        ""
      ]
    }
  ],
  "metadata": {
    "accelerator": "GPU",
    "colab": {
      "collapsed_sections": [],
      "name": "OKC5_New_upload_2.ipynb",
      "provenance": [],
      "include_colab_link": true
    },
    "gpuClass": "standard",
    "kernelspec": {
      "display_name": "Python 3",
      "name": "python3"
    },
    "language_info": {
      "name": "python"
    }
  },
  "nbformat": 4,
  "nbformat_minor": 0
}